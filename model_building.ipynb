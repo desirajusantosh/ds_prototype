{
  "nbformat": 4,
  "nbformat_minor": 0,
  "metadata": {
    "colab": {
      "name": "model_building.ipynb",
      "provenance": [],
      "collapsed_sections": []
    },
    "kernelspec": {
      "name": "python3",
      "display_name": "Python 3"
    }
  },
  "cells": [
    {
      "cell_type": "code",
      "metadata": {
        "id": "dx5QbkBoWN-m",
        "colab_type": "code",
        "colab": {}
      },
      "source": [
        "import pandas as pd\n",
        "import numpy as np\n",
        "import matplotlib.pyplot as plt\n"
      ],
      "execution_count": null,
      "outputs": []
    },
    {
      "cell_type": "code",
      "metadata": {
        "id": "9ZQsp06kWVtI",
        "colab_type": "code",
        "colab": {}
      },
      "source": [
        "df = pd.read_csv('eda_data.csv')"
      ],
      "execution_count": null,
      "outputs": []
    },
    {
      "cell_type": "code",
      "metadata": {
        "id": "4T7yqprVWa9P",
        "colab_type": "code",
        "colab": {}
      },
      "source": [
        "# choose relevant columns\n",
        "# get dummy data --> columns increase in dataframe if we're breaking down each category\n",
        "# train test split\n",
        "\n",
        "# multiple linear regression\n",
        "# lasso regression\n",
        "# random forest\n",
        "\n",
        "# tune models using GridsearchCV \n",
        "\n",
        "# test ensembles\n"
      ],
      "execution_count": null,
      "outputs": []
    },
    {
      "cell_type": "code",
      "metadata": {
        "id": "CYIY7xPXoMeN",
        "colab_type": "code",
        "colab": {
          "base_uri": "https://localhost:8080/",
          "height": 139
        },
        "outputId": "7e8982a7-67cd-40fd-bda5-544534371ca7"
      },
      "source": [
        "df.columns"
      ],
      "execution_count": null,
      "outputs": [
        {
          "output_type": "execute_result",
          "data": {
            "text/plain": [
              "Index(['Unnamed: 0', 'Job Title', 'Salary Estimate', 'Job Description',\n",
              "       'Rating', 'Company Name', 'Location', 'Headquarters', 'Size', 'Founded',\n",
              "       'Type of ownership', 'Industry', 'Sector', 'Revenue', 'Competitors',\n",
              "       'hourly', 'employer_provided', 'min_salary', 'max_salary', 'avg_salary',\n",
              "       'job_state', 'job_city', 'same_state', 'age', 'python_yn', 'r_yn',\n",
              "       'spark', 'aws', 'excel', 'job_simp', 'seniority', 'job_desc'],\n",
              "      dtype='object')"
            ]
          },
          "metadata": {
            "tags": []
          },
          "execution_count": 19
        }
      ]
    },
    {
      "cell_type": "code",
      "metadata": {
        "id": "e5KFMDKCoOgz",
        "colab_type": "code",
        "colab": {}
      },
      "source": [
        "df_model = df[['avg_salary','Rating', 'Size','Type of ownership','Industry', 'Sector', 'Revenue','Competitors','hourly','employer_provided',\n",
        "             'job_state','same_state','age','python_yn','spark','aws','excel','job_simp','seniority','job_desc']]"
      ],
      "execution_count": null,
      "outputs": []
    },
    {
      "cell_type": "code",
      "metadata": {
        "id": "9ViG-MZ9pW9-",
        "colab_type": "code",
        "colab": {}
      },
      "source": [
        "df_dum = pd.get_dummies(df_model)"
      ],
      "execution_count": null,
      "outputs": []
    },
    {
      "cell_type": "code",
      "metadata": {
        "id": "Vtad2KcBI_Cy",
        "colab_type": "code",
        "colab": {
          "base_uri": "https://localhost:8080/",
          "height": 139
        },
        "outputId": "dc964271-6837-496f-cadf-c6cfc999a148"
      },
      "source": [
        "df_dum.columns"
      ],
      "execution_count": null,
      "outputs": [
        {
          "output_type": "execute_result",
          "data": {
            "text/plain": [
              "Index(['avg_salary', 'Rating', 'Competitors', 'hourly', 'employer_provided',\n",
              "       'same_state', 'age', 'python_yn', 'spark', 'aws',\n",
              "       ...\n",
              "       'job_state_WI', 'job_simp_analyst', 'job_simp_data engineer',\n",
              "       'job_simp_data scientist', 'job_simp_director', 'job_simp_manager',\n",
              "       'job_simp_mle', 'job_simp_na', 'seniority_na', 'seniority_senior'],\n",
              "      dtype='object', length=114)"
            ]
          },
          "metadata": {
            "tags": []
          },
          "execution_count": 22
        }
      ]
    },
    {
      "cell_type": "code",
      "metadata": {
        "id": "jg5vrHu5JDM4",
        "colab_type": "code",
        "colab": {}
      },
      "source": [
        "from sklearn.model_selection import train_test_split"
      ],
      "execution_count": null,
      "outputs": []
    },
    {
      "cell_type": "code",
      "metadata": {
        "id": "Q_I6XfAGJNkj",
        "colab_type": "code",
        "colab": {}
      },
      "source": [
        "X = df_dum.drop('avg_salary',axis=1)"
      ],
      "execution_count": null,
      "outputs": []
    },
    {
      "cell_type": "code",
      "metadata": {
        "id": "f5Wfix_6JTD7",
        "colab_type": "code",
        "colab": {}
      },
      "source": [
        "y = df_dum.avg_salary.values"
      ],
      "execution_count": null,
      "outputs": []
    },
    {
      "cell_type": "code",
      "metadata": {
        "id": "hXxbpKCIJYVQ",
        "colab_type": "code",
        "colab": {
          "base_uri": "https://localhost:8080/",
          "height": 225
        },
        "outputId": "3c939e6f-9406-495d-d157-a1b751f3a9e6"
      },
      "source": [
        "y"
      ],
      "execution_count": null,
      "outputs": [
        {
          "output_type": "execute_result",
          "data": {
            "text/plain": [
              "array([ 93. ,  93. ,  93. ,  93. ,  93. ,  93. ,  93. ,  93. ,  93. ,\n",
              "        93. ,  93. ,  93. ,  93. ,  93. ,  93. ,  93. ,  93. ,  93. ,\n",
              "        93. ,  93. ,  93. ,  93. ,  93. ,  93. ,  93. ,  93. ,  93. ,\n",
              "        93. ,  93. ,  93. , 106. , 106. , 106. , 106. , 106. , 106. ,\n",
              "       106. , 106. , 106. , 106. , 106. , 106. , 106. , 106. , 106. ,\n",
              "       106. , 106. , 106. , 106. , 106. , 106. , 106. , 106. , 106. ,\n",
              "       106. , 106. , 106. , 106. , 106. , 106. ,  47.5,  47.5,  47.5,\n",
              "        47.5,  47.5,  47.5,  47.5,  47.5,  47.5,  47.5,  47.5,  47.5,\n",
              "        47.5,  47.5,  47.5,  47.5,  47.5,  47.5,  47.5,  47.5,  47.5,\n",
              "        47.5,  47.5,  47.5,  47.5,  47.5,  47.5,  47.5,  47.5,  47.5,\n",
              "        80. ,  80. ,  80. ,  80. ,  80. ,  80. ,  80. ,  80. ,  80. ,\n",
              "        80. ])"
            ]
          },
          "metadata": {
            "tags": []
          },
          "execution_count": 26
        }
      ]
    },
    {
      "cell_type": "code",
      "metadata": {
        "id": "tfdVIEUnJZoB",
        "colab_type": "code",
        "colab": {}
      },
      "source": [
        "X_train, X_test, y_train, y_test =  train_test_split(X,y,test_size=0.2,random_state=42)"
      ],
      "execution_count": null,
      "outputs": []
    },
    {
      "cell_type": "code",
      "metadata": {
        "id": "8Vzt7PVSKP-5",
        "colab_type": "code",
        "colab": {
          "base_uri": "https://localhost:8080/",
          "height": 176
        },
        "outputId": "e8c3b518-cab2-4962-a3df-27a3a256da44"
      },
      "source": [
        "!pip install statsmodels"
      ],
      "execution_count": null,
      "outputs": [
        {
          "output_type": "stream",
          "text": [
            "Requirement already satisfied: statsmodels in /usr/local/lib/python3.6/dist-packages (0.10.2)\n",
            "Requirement already satisfied: pandas>=0.19 in /usr/local/lib/python3.6/dist-packages (from statsmodels) (1.0.5)\n",
            "Requirement already satisfied: patsy>=0.4.0 in /usr/local/lib/python3.6/dist-packages (from statsmodels) (0.5.1)\n",
            "Requirement already satisfied: scipy>=0.18 in /usr/local/lib/python3.6/dist-packages (from statsmodels) (1.4.1)\n",
            "Requirement already satisfied: numpy>=1.11 in /usr/local/lib/python3.6/dist-packages (from statsmodels) (1.18.5)\n",
            "Requirement already satisfied: python-dateutil>=2.6.1 in /usr/local/lib/python3.6/dist-packages (from pandas>=0.19->statsmodels) (2.8.1)\n",
            "Requirement already satisfied: pytz>=2017.2 in /usr/local/lib/python3.6/dist-packages (from pandas>=0.19->statsmodels) (2018.9)\n",
            "Requirement already satisfied: six in /usr/local/lib/python3.6/dist-packages (from patsy>=0.4.0->statsmodels) (1.12.0)\n"
          ],
          "name": "stdout"
        }
      ]
    },
    {
      "cell_type": "code",
      "metadata": {
        "id": "NOoCD5puKaTr",
        "colab_type": "code",
        "colab": {
          "base_uri": "https://localhost:8080/",
          "height": 72
        },
        "outputId": "30b8b8e5-5dad-403b-cfe3-83c32569e1c2"
      },
      "source": [
        "import statsmodels.api as sm"
      ],
      "execution_count": null,
      "outputs": [
        {
          "output_type": "stream",
          "text": [
            "/usr/local/lib/python3.6/dist-packages/statsmodels/tools/_testing.py:19: FutureWarning: pandas.util.testing is deprecated. Use the functions in the public API at pandas.testing instead.\n",
            "  import pandas.util.testing as tm\n"
          ],
          "name": "stderr"
        }
      ]
    },
    {
      "cell_type": "code",
      "metadata": {
        "id": "CCRYLaFyKdZ_",
        "colab_type": "code",
        "colab": {}
      },
      "source": [
        "X_sm = X = sm.add_constant(X)\n",
        "# Column of 1 creates intercept. Creates constant in the model. "
      ],
      "execution_count": null,
      "outputs": []
    },
    {
      "cell_type": "code",
      "metadata": {
        "id": "3_NF3MR-K4VY",
        "colab_type": "code",
        "colab": {}
      },
      "source": [
        "model = sm.OLS(y,X_sm)"
      ],
      "execution_count": null,
      "outputs": []
    },
    {
      "cell_type": "code",
      "metadata": {
        "id": "gWF06Y_cRFRa",
        "colab_type": "code",
        "colab": {
          "base_uri": "https://localhost:8080/",
          "height": 1000
        },
        "outputId": "2936d7a2-7b57-431c-e7c1-72926fd48026"
      },
      "source": [
        "model.fit().summary()"
      ],
      "execution_count": null,
      "outputs": [
        {
          "output_type": "execute_result",
          "data": {
            "text/html": [
              "<table class=\"simpletable\">\n",
              "<caption>OLS Regression Results</caption>\n",
              "<tr>\n",
              "  <th>Dep. Variable:</th>            <td>y</td>        <th>  R-squared:         </th> <td>   0.902</td>\n",
              "</tr>\n",
              "<tr>\n",
              "  <th>Model:</th>                   <td>OLS</td>       <th>  Adj. R-squared:    </th> <td>   0.117</td>\n",
              "</tr>\n",
              "<tr>\n",
              "  <th>Method:</th>             <td>Least Squares</td>  <th>  F-statistic:       </th> <td>   1.149</td>\n",
              "</tr>\n",
              "<tr>\n",
              "  <th>Date:</th>             <td>Wed, 01 Jul 2020</td> <th>  Prob (F-statistic):</th>  <td> 0.428</td> \n",
              "</tr>\n",
              "<tr>\n",
              "  <th>Time:</th>                 <td>21:25:12</td>     <th>  Log-Likelihood:    </th> <td> -342.80</td>\n",
              "</tr>\n",
              "<tr>\n",
              "  <th>No. Observations:</th>      <td>   100</td>      <th>  AIC:               </th> <td>   863.6</td>\n",
              "</tr>\n",
              "<tr>\n",
              "  <th>Df Residuals:</th>          <td>    11</td>      <th>  BIC:               </th> <td>   1095.</td>\n",
              "</tr>\n",
              "<tr>\n",
              "  <th>Df Model:</th>              <td>    88</td>      <th>                     </th>     <td> </td>   \n",
              "</tr>\n",
              "<tr>\n",
              "  <th>Covariance Type:</th>      <td>nonrobust</td>    <th>                     </th>     <td> </td>   \n",
              "</tr>\n",
              "</table>\n",
              "<table class=\"simpletable\">\n",
              "<tr>\n",
              "                          <td></td>                             <th>coef</th>     <th>std err</th>      <th>t</th>      <th>P>|t|</th>  <th>[0.025</th>    <th>0.975]</th>  \n",
              "</tr>\n",
              "<tr>\n",
              "  <th>const</th>                                             <td>   37.2913</td> <td>   20.654</td> <td>    1.806</td> <td> 0.098</td> <td>   -8.168</td> <td>   82.750</td>\n",
              "</tr>\n",
              "<tr>\n",
              "  <th>Rating</th>                                            <td>    5.7815</td> <td>    6.003</td> <td>    0.963</td> <td> 0.356</td> <td>   -7.431</td> <td>   18.994</td>\n",
              "</tr>\n",
              "<tr>\n",
              "  <th>Competitors</th>                                       <td>    6.4877</td> <td>    6.926</td> <td>    0.937</td> <td> 0.369</td> <td>   -8.756</td> <td>   21.731</td>\n",
              "</tr>\n",
              "<tr>\n",
              "  <th>hourly</th>                                            <td> 4.709e-13</td> <td> 4.92e-13</td> <td>    0.957</td> <td> 0.359</td> <td>-6.12e-13</td> <td> 1.55e-12</td>\n",
              "</tr>\n",
              "<tr>\n",
              "  <th>employer_provided</th>                                 <td>-1.848e-12</td> <td> 2.39e-12</td> <td>   -0.774</td> <td> 0.455</td> <td> -7.1e-12</td> <td>  3.4e-12</td>\n",
              "</tr>\n",
              "<tr>\n",
              "  <th>same_state</th>                                        <td>   11.8778</td> <td>   12.823</td> <td>    0.926</td> <td> 0.374</td> <td>  -16.346</td> <td>   40.101</td>\n",
              "</tr>\n",
              "<tr>\n",
              "  <th>age</th>                                               <td>    0.0893</td> <td>    0.199</td> <td>    0.449</td> <td> 0.662</td> <td>   -0.349</td> <td>    0.527</td>\n",
              "</tr>\n",
              "<tr>\n",
              "  <th>python_yn</th>                                         <td>   -2.5152</td> <td>   11.213</td> <td>   -0.224</td> <td> 0.827</td> <td>  -27.194</td> <td>   22.164</td>\n",
              "</tr>\n",
              "<tr>\n",
              "  <th>spark</th>                                             <td>   15.0577</td> <td>   14.248</td> <td>    1.057</td> <td> 0.313</td> <td>  -16.302</td> <td>   46.417</td>\n",
              "</tr>\n",
              "<tr>\n",
              "  <th>aws</th>                                               <td>  -14.2271</td> <td>   15.012</td> <td>   -0.948</td> <td> 0.364</td> <td>  -47.268</td> <td>   18.814</td>\n",
              "</tr>\n",
              "<tr>\n",
              "  <th>excel</th>                                             <td>    2.8866</td> <td>   24.356</td> <td>    0.119</td> <td> 0.908</td> <td>  -50.720</td> <td>   56.493</td>\n",
              "</tr>\n",
              "<tr>\n",
              "  <th>job_desc</th>                                          <td>    0.0025</td> <td>    0.006</td> <td>    0.414</td> <td> 0.687</td> <td>   -0.011</td> <td>    0.016</td>\n",
              "</tr>\n",
              "<tr>\n",
              "  <th>Size_-1</th>                                           <td>    5.4627</td> <td>    9.297</td> <td>    0.588</td> <td> 0.569</td> <td>  -15.000</td> <td>   25.925</td>\n",
              "</tr>\n",
              "<tr>\n",
              "  <th>Size_1 to 50 employees</th>                            <td>   15.4950</td> <td>   25.424</td> <td>    0.609</td> <td> 0.555</td> <td>  -40.463</td> <td>   71.453</td>\n",
              "</tr>\n",
              "<tr>\n",
              "  <th>Size_10000+ employees</th>                             <td>   72.3481</td> <td>   50.258</td> <td>    1.440</td> <td> 0.178</td> <td>  -38.270</td> <td>  182.966</td>\n",
              "</tr>\n",
              "<tr>\n",
              "  <th>Size_1001 to 5000 employees</th>                       <td>  -19.3613</td> <td>   26.679</td> <td>   -0.726</td> <td> 0.483</td> <td>  -78.082</td> <td>   39.360</td>\n",
              "</tr>\n",
              "<tr>\n",
              "  <th>Size_201 to 500 employees</th>                         <td>   21.0302</td> <td>   27.853</td> <td>    0.755</td> <td> 0.466</td> <td>  -40.274</td> <td>   82.334</td>\n",
              "</tr>\n",
              "<tr>\n",
              "  <th>Size_5001 to 10000 employees</th>                      <td>  -56.9758</td> <td>   48.835</td> <td>   -1.167</td> <td> 0.268</td> <td> -164.460</td> <td>   50.509</td>\n",
              "</tr>\n",
              "<tr>\n",
              "  <th>Size_501 to 1000 employees</th>                        <td>   -6.5181</td> <td>   26.408</td> <td>   -0.247</td> <td> 0.810</td> <td>  -64.642</td> <td>   51.606</td>\n",
              "</tr>\n",
              "<tr>\n",
              "  <th>Size_51 to 200 employees</th>                          <td>    5.8105</td> <td>   17.445</td> <td>    0.333</td> <td> 0.745</td> <td>  -32.586</td> <td>   44.207</td>\n",
              "</tr>\n",
              "<tr>\n",
              "  <th>Type of ownership_-1</th>                              <td>    5.4627</td> <td>    9.297</td> <td>    0.588</td> <td> 0.569</td> <td>  -15.000</td> <td>   25.925</td>\n",
              "</tr>\n",
              "<tr>\n",
              "  <th>Type of ownership_Company - Private</th>               <td>  -14.8288</td> <td>   14.477</td> <td>   -1.024</td> <td> 0.328</td> <td>  -46.693</td> <td>   17.035</td>\n",
              "</tr>\n",
              "<tr>\n",
              "  <th>Type of ownership_Company - Public</th>                <td>  -61.3501</td> <td>   29.804</td> <td>   -2.058</td> <td> 0.064</td> <td> -126.948</td> <td>    4.247</td>\n",
              "</tr>\n",
              "<tr>\n",
              "  <th>Type of ownership_Government</th>                      <td>   70.8169</td> <td>   50.676</td> <td>    1.397</td> <td> 0.190</td> <td>  -40.721</td> <td>  182.355</td>\n",
              "</tr>\n",
              "<tr>\n",
              "  <th>Type of ownership_Nonprofit Organization</th>          <td>   25.5333</td> <td>   37.747</td> <td>    0.676</td> <td> 0.513</td> <td>  -57.547</td> <td>  108.613</td>\n",
              "</tr>\n",
              "<tr>\n",
              "  <th>Type of ownership_Private Practice / Firm</th>         <td>    2.0872</td> <td>   37.299</td> <td>    0.056</td> <td> 0.956</td> <td>  -80.007</td> <td>   84.181</td>\n",
              "</tr>\n",
              "<tr>\n",
              "  <th>Type of ownership_Subsidiary or Business Segment</th>  <td>    9.5701</td> <td>   29.523</td> <td>    0.324</td> <td> 0.752</td> <td>  -55.410</td> <td>   74.550</td>\n",
              "</tr>\n",
              "<tr>\n",
              "  <th>Industry_-1</th>                                       <td>    5.4627</td> <td>    9.297</td> <td>    0.588</td> <td> 0.569</td> <td>  -15.000</td> <td>   25.925</td>\n",
              "</tr>\n",
              "<tr>\n",
              "  <th>Industry_Advertising & Marketing</th>                  <td>    4.8767</td> <td>   20.045</td> <td>    0.243</td> <td> 0.812</td> <td>  -39.241</td> <td>   48.995</td>\n",
              "</tr>\n",
              "<tr>\n",
              "  <th>Industry_Aerospace & Defense</th>                      <td>   -2.6704</td> <td>   10.471</td> <td>   -0.255</td> <td> 0.803</td> <td>  -25.718</td> <td>   20.377</td>\n",
              "</tr>\n",
              "<tr>\n",
              "  <th>Industry_Architectural & Engineering Services</th>     <td>   -7.4594</td> <td>   32.647</td> <td>   -0.228</td> <td> 0.823</td> <td>  -79.314</td> <td>   64.395</td>\n",
              "</tr>\n",
              "<tr>\n",
              "  <th>Industry_Banks & Credit Unions</th>                    <td>   -2.3338</td> <td>   35.604</td> <td>   -0.066</td> <td> 0.949</td> <td>  -80.698</td> <td>   76.030</td>\n",
              "</tr>\n",
              "<tr>\n",
              "  <th>Industry_Biotech & Pharmaceuticals</th>                <td>   18.0635</td> <td>   18.572</td> <td>    0.973</td> <td> 0.352</td> <td>  -22.812</td> <td>   58.939</td>\n",
              "</tr>\n",
              "<tr>\n",
              "  <th>Industry_Chemical Manufacturing</th>                   <td>  -42.2520</td> <td>   76.341</td> <td>   -0.553</td> <td> 0.591</td> <td> -210.276</td> <td>  125.772</td>\n",
              "</tr>\n",
              "<tr>\n",
              "  <th>Industry_Computer Hardware & Software</th>             <td>   13.9916</td> <td>   16.880</td> <td>    0.829</td> <td> 0.425</td> <td>  -23.161</td> <td>   51.144</td>\n",
              "</tr>\n",
              "<tr>\n",
              "  <th>Industry_Consulting</th>                               <td>   15.2593</td> <td>   34.424</td> <td>    0.443</td> <td> 0.666</td> <td>  -60.507</td> <td>   91.026</td>\n",
              "</tr>\n",
              "<tr>\n",
              "  <th>Industry_Consumer Electronics & Appliances Stores</th> <td>   29.9259</td> <td>   30.801</td> <td>    0.972</td> <td> 0.352</td> <td>  -37.866</td> <td>   97.718</td>\n",
              "</tr>\n",
              "<tr>\n",
              "  <th>Industry_Consumer Products Manufacturing</th>          <td>   36.3599</td> <td>   79.814</td> <td>    0.456</td> <td> 0.658</td> <td> -139.310</td> <td>  212.030</td>\n",
              "</tr>\n",
              "<tr>\n",
              "  <th>Industry_Electrical & Electronic Manufacturing</th>    <td>   38.9959</td> <td>   58.421</td> <td>    0.667</td> <td> 0.518</td> <td>  -89.588</td> <td>  167.579</td>\n",
              "</tr>\n",
              "<tr>\n",
              "  <th>Industry_Enterprise Software & Network Solutions</th>  <td>    1.4923</td> <td>   11.371</td> <td>    0.131</td> <td> 0.898</td> <td>  -23.535</td> <td>   26.520</td>\n",
              "</tr>\n",
              "<tr>\n",
              "  <th>Industry_Federal Agencies</th>                         <td>  -15.8518</td> <td>   18.635</td> <td>   -0.851</td> <td> 0.413</td> <td>  -56.867</td> <td>   25.163</td>\n",
              "</tr>\n",
              "<tr>\n",
              "  <th>Industry_Health Care Services & Hospitals</th>         <td>   16.8928</td> <td>   14.285</td> <td>    1.183</td> <td> 0.262</td> <td>  -14.548</td> <td>   48.333</td>\n",
              "</tr>\n",
              "<tr>\n",
              "  <th>Industry_IT Services</th>                              <td>   -2.6535</td> <td>   20.979</td> <td>   -0.126</td> <td> 0.902</td> <td>  -48.829</td> <td>   43.521</td>\n",
              "</tr>\n",
              "<tr>\n",
              "  <th>Industry_Insurance Agencies & Brokerages</th>          <td>  -75.2746</td> <td>   71.780</td> <td>   -1.049</td> <td> 0.317</td> <td> -233.262</td> <td>   82.713</td>\n",
              "</tr>\n",
              "<tr>\n",
              "  <th>Industry_Insurance Carriers</th>                       <td>   37.6977</td> <td>   43.166</td> <td>    0.873</td> <td> 0.401</td> <td>  -57.311</td> <td>  132.706</td>\n",
              "</tr>\n",
              "<tr>\n",
              "  <th>Industry_Internet</th>                                 <td>  -13.4568</td> <td>   21.104</td> <td>   -0.638</td> <td> 0.537</td> <td>  -59.907</td> <td>   32.993</td>\n",
              "</tr>\n",
              "<tr>\n",
              "  <th>Industry_Investment Banking & Asset Management</th>    <td>  -75.3686</td> <td>   42.552</td> <td>   -1.771</td> <td> 0.104</td> <td> -169.025</td> <td>   18.287</td>\n",
              "</tr>\n",
              "<tr>\n",
              "  <th>Industry_Lending</th>                                  <td>   46.8182</td> <td>   24.309</td> <td>    1.926</td> <td> 0.080</td> <td>   -6.687</td> <td>  100.323</td>\n",
              "</tr>\n",
              "<tr>\n",
              "  <th>Industry_Research & Development</th>                   <td>   48.8456</td> <td>   27.952</td> <td>    1.747</td> <td> 0.108</td> <td>  -12.676</td> <td>  110.368</td>\n",
              "</tr>\n",
              "<tr>\n",
              "  <th>Industry_Staffing & Outsourcing</th>                   <td>  -64.8146</td> <td>   35.996</td> <td>   -1.801</td> <td> 0.099</td> <td> -144.040</td> <td>   14.411</td>\n",
              "</tr>\n",
              "<tr>\n",
              "  <th>Industry_Utilities</th>                                <td>   21.0771</td> <td>   23.564</td> <td>    0.894</td> <td> 0.390</td> <td>  -30.788</td> <td>   72.942</td>\n",
              "</tr>\n",
              "<tr>\n",
              "  <th>Industry_Venture Capital & Private Equity</th>         <td>    3.6677</td> <td>   34.178</td> <td>    0.107</td> <td> 0.916</td> <td>  -71.557</td> <td>   78.892</td>\n",
              "</tr>\n",
              "<tr>\n",
              "  <th>Sector_-1</th>                                         <td>    5.4627</td> <td>    9.297</td> <td>    0.588</td> <td> 0.569</td> <td>  -15.000</td> <td>   25.925</td>\n",
              "</tr>\n",
              "<tr>\n",
              "  <th>Sector_Aerospace & Defense</th>                        <td>   -2.6704</td> <td>   10.471</td> <td>   -0.255</td> <td> 0.803</td> <td>  -25.718</td> <td>   20.377</td>\n",
              "</tr>\n",
              "<tr>\n",
              "  <th>Sector_Biotech & Pharmaceuticals</th>                  <td>   18.0635</td> <td>   18.572</td> <td>    0.973</td> <td> 0.352</td> <td>  -22.812</td> <td>   58.939</td>\n",
              "</tr>\n",
              "<tr>\n",
              "  <th>Sector_Business Services</th>                          <td>   -3.2924</td> <td>   11.528</td> <td>   -0.286</td> <td> 0.780</td> <td>  -28.666</td> <td>   22.081</td>\n",
              "</tr>\n",
              "<tr>\n",
              "  <th>Sector_Finance</th>                                    <td>  -27.2165</td> <td>   19.319</td> <td>   -1.409</td> <td> 0.187</td> <td>  -69.737</td> <td>   15.304</td>\n",
              "</tr>\n",
              "<tr>\n",
              "  <th>Sector_Government</th>                                 <td>  -15.8518</td> <td>   18.635</td> <td>   -0.851</td> <td> 0.413</td> <td>  -56.867</td> <td>   25.163</td>\n",
              "</tr>\n",
              "<tr>\n",
              "  <th>Sector_Health Care</th>                                <td>   16.8928</td> <td>   14.285</td> <td>    1.183</td> <td> 0.262</td> <td>  -14.548</td> <td>   48.333</td>\n",
              "</tr>\n",
              "<tr>\n",
              "  <th>Sector_Information Technology</th>                     <td>   -0.6264</td> <td>   15.438</td> <td>   -0.041</td> <td> 0.968</td> <td>  -34.605</td> <td>   33.352</td>\n",
              "</tr>\n",
              "<tr>\n",
              "  <th>Sector_Insurance</th>                                  <td>  -37.5769</td> <td>   38.912</td> <td>   -0.966</td> <td> 0.355</td> <td> -123.222</td> <td>   48.069</td>\n",
              "</tr>\n",
              "<tr>\n",
              "  <th>Sector_Manufacturing</th>                              <td>   33.1038</td> <td>   22.508</td> <td>    1.471</td> <td> 0.169</td> <td>  -16.435</td> <td>   82.643</td>\n",
              "</tr>\n",
              "<tr>\n",
              "  <th>Sector_Oil, Gas, Energy & Utilities</th>               <td>   21.0771</td> <td>   23.564</td> <td>    0.894</td> <td> 0.390</td> <td>  -30.788</td> <td>   72.942</td>\n",
              "</tr>\n",
              "<tr>\n",
              "  <th>Sector_Retail</th>                                     <td>   29.9259</td> <td>   30.801</td> <td>    0.972</td> <td> 0.352</td> <td>  -37.866</td> <td>   97.718</td>\n",
              "</tr>\n",
              "<tr>\n",
              "  <th>Revenue_$1 to $2 billion (USD)</th>                    <td>   43.0162</td> <td>   46.939</td> <td>    0.916</td> <td> 0.379</td> <td>  -60.296</td> <td>  146.328</td>\n",
              "</tr>\n",
              "<tr>\n",
              "  <th>Revenue_$1 to $5 million (USD)</th>                    <td>  -21.4062</td> <td>   32.275</td> <td>   -0.663</td> <td> 0.521</td> <td>  -92.444</td> <td>   49.631</td>\n",
              "</tr>\n",
              "<tr>\n",
              "  <th>Revenue_$10 to $25 million (USD)</th>                  <td>    7.0201</td> <td>   24.496</td> <td>    0.287</td> <td> 0.780</td> <td>  -46.895</td> <td>   60.936</td>\n",
              "</tr>\n",
              "<tr>\n",
              "  <th>Revenue_$10+ billion (USD)</th>                        <td>  -76.6822</td> <td>   56.088</td> <td>   -1.367</td> <td> 0.199</td> <td> -200.132</td> <td>   46.767</td>\n",
              "</tr>\n",
              "<tr>\n",
              "  <th>Revenue_$100 to $500 million (USD)</th>                <td>    8.3699</td> <td>   37.163</td> <td>    0.225</td> <td> 0.826</td> <td>  -73.426</td> <td>   90.166</td>\n",
              "</tr>\n",
              "<tr>\n",
              "  <th>Revenue_$2 to $5 billion (USD)</th>                    <td>   84.6914</td> <td>   41.677</td> <td>    2.032</td> <td> 0.067</td> <td>   -7.039</td> <td>  176.422</td>\n",
              "</tr>\n",
              "<tr>\n",
              "  <th>Revenue_$25 to $50 million (USD)</th>                  <td>   17.3347</td> <td>   38.053</td> <td>    0.456</td> <td> 0.658</td> <td>  -66.418</td> <td>  101.088</td>\n",
              "</tr>\n",
              "<tr>\n",
              "  <th>Revenue_$5 to $10 billion (USD)</th>                   <td>  124.2656</td> <td>   66.765</td> <td>    1.861</td> <td> 0.090</td> <td>  -22.683</td> <td>  271.214</td>\n",
              "</tr>\n",
              "<tr>\n",
              "  <th>Revenue_$5 to $10 million (USD)</th>                   <td>  -49.6507</td> <td>   34.298</td> <td>   -1.448</td> <td> 0.176</td> <td> -125.141</td> <td>   25.840</td>\n",
              "</tr>\n",
              "<tr>\n",
              "  <th>Revenue_$50 to $100 million (USD)</th>                 <td>  -16.1898</td> <td>   29.693</td> <td>   -0.545</td> <td> 0.596</td> <td>  -81.543</td> <td>   49.164</td>\n",
              "</tr>\n",
              "<tr>\n",
              "  <th>Revenue_$500 million to $1 billion (USD)</th>          <td>   -5.5989</td> <td>   27.551</td> <td>   -0.203</td> <td> 0.843</td> <td>  -66.239</td> <td>   55.041</td>\n",
              "</tr>\n",
              "<tr>\n",
              "  <th>Revenue_-1</th>                                        <td>    5.4627</td> <td>    9.297</td> <td>    0.588</td> <td> 0.569</td> <td>  -15.000</td> <td>   25.925</td>\n",
              "</tr>\n",
              "<tr>\n",
              "  <th>Revenue_Less than $1 million (USD)</th>                <td>  -74.8985</td> <td>   54.230</td> <td>   -1.381</td> <td> 0.195</td> <td> -194.257</td> <td>   44.460</td>\n",
              "</tr>\n",
              "<tr>\n",
              "  <th>Revenue_Unknown / Non-Applicable</th>                  <td>   -8.4428</td> <td>   15.217</td> <td>   -0.555</td> <td> 0.590</td> <td>  -41.936</td> <td>   25.050</td>\n",
              "</tr>\n",
              "<tr>\n",
              "  <th>job_state_AZ</th>                                      <td>   43.2496</td> <td>   69.128</td> <td>    0.626</td> <td> 0.544</td> <td> -108.900</td> <td>  195.399</td>\n",
              "</tr>\n",
              "<tr>\n",
              "  <th>job_state_CA</th>                                      <td>  -17.4599</td> <td>   34.102</td> <td>   -0.512</td> <td> 0.619</td> <td>  -92.518</td> <td>   57.598</td>\n",
              "</tr>\n",
              "<tr>\n",
              "  <th>job_state_DC</th>                                      <td>   11.1214</td> <td>   44.722</td> <td>    0.249</td> <td> 0.808</td> <td>  -87.311</td> <td>  109.554</td>\n",
              "</tr>\n",
              "<tr>\n",
              "  <th>job_state_DE</th>                                      <td>   -9.6185</td> <td>   68.347</td> <td>   -0.141</td> <td> 0.891</td> <td> -160.049</td> <td>  140.812</td>\n",
              "</tr>\n",
              "<tr>\n",
              "  <th>job_state_FL</th>                                      <td>  102.1387</td> <td>   74.514</td> <td>    1.371</td> <td> 0.198</td> <td>  -61.866</td> <td>  266.143</td>\n",
              "</tr>\n",
              "<tr>\n",
              "  <th>job_state_GA</th>                                      <td>  -34.0990</td> <td>   60.376</td> <td>   -0.565</td> <td> 0.584</td> <td> -166.985</td> <td>   98.787</td>\n",
              "</tr>\n",
              "<tr>\n",
              "  <th>job_state_IL</th>                                      <td>  -12.2173</td> <td>   32.051</td> <td>   -0.381</td> <td> 0.710</td> <td>  -82.762</td> <td>   58.327</td>\n",
              "</tr>\n",
              "<tr>\n",
              "  <th>job_state_IN</th>                                      <td>   25.7223</td> <td>   66.372</td> <td>    0.388</td> <td> 0.706</td> <td> -120.362</td> <td>  171.806</td>\n",
              "</tr>\n",
              "<tr>\n",
              "  <th>job_state_KS</th>                                      <td>  -16.9257</td> <td>   42.809</td> <td>   -0.395</td> <td> 0.700</td> <td> -111.147</td> <td>   77.296</td>\n",
              "</tr>\n",
              "<tr>\n",
              "  <th>job_state_MA</th>                                      <td>  -25.3870</td> <td>   36.315</td> <td>   -0.699</td> <td> 0.499</td> <td> -105.317</td> <td>   54.543</td>\n",
              "</tr>\n",
              "<tr>\n",
              "  <th>job_state_MD</th>                                      <td>   -3.1505</td> <td>   43.602</td> <td>   -0.072</td> <td> 0.944</td> <td>  -99.118</td> <td>   92.817</td>\n",
              "</tr>\n",
              "<tr>\n",
              "  <th>job_state_MO</th>                                      <td>  -28.4726</td> <td>   40.612</td> <td>   -0.701</td> <td> 0.498</td> <td> -117.858</td> <td>   60.913</td>\n",
              "</tr>\n",
              "<tr>\n",
              "  <th>job_state_NC</th>                                      <td>   39.1166</td> <td>   30.618</td> <td>    1.278</td> <td> 0.228</td> <td>  -28.274</td> <td>  106.507</td>\n",
              "</tr>\n",
              "<tr>\n",
              "  <th>job_state_NE</th>                                      <td>  -11.0980</td> <td>   50.122</td> <td>   -0.221</td> <td> 0.829</td> <td> -121.416</td> <td>   99.219</td>\n",
              "</tr>\n",
              "<tr>\n",
              "  <th>job_state_NH</th>                                      <td>   10.2641</td> <td>   57.952</td> <td>    0.177</td> <td> 0.863</td> <td> -117.288</td> <td>  137.817</td>\n",
              "</tr>\n",
              "<tr>\n",
              "  <th>job_state_NY</th>                                      <td>  -15.8388</td> <td>   37.551</td> <td>   -0.422</td> <td> 0.681</td> <td>  -98.488</td> <td>   66.810</td>\n",
              "</tr>\n",
              "<tr>\n",
              "  <th>job_state_OH</th>                                      <td>   22.0216</td> <td>   64.727</td> <td>    0.340</td> <td> 0.740</td> <td> -120.440</td> <td>  164.484</td>\n",
              "</tr>\n",
              "<tr>\n",
              "  <th>job_state_OR</th>                                      <td>  -66.7723</td> <td>   76.517</td> <td>   -0.873</td> <td> 0.402</td> <td> -235.186</td> <td>  101.641</td>\n",
              "</tr>\n",
              "<tr>\n",
              "  <th>job_state_PA</th>                                      <td>   -3.5816</td> <td>   51.310</td> <td>   -0.070</td> <td> 0.946</td> <td> -116.514</td> <td>  109.351</td>\n",
              "</tr>\n",
              "<tr>\n",
              "  <th>job_state_RI</th>                                      <td>  -83.3649</td> <td>   55.934</td> <td>   -1.490</td> <td> 0.164</td> <td> -206.475</td> <td>   39.745</td>\n",
              "</tr>\n",
              "<tr>\n",
              "  <th>job_state_SC</th>                                      <td>  -41.6983</td> <td>   51.202</td> <td>   -0.814</td> <td> 0.433</td> <td> -154.392</td> <td>   70.995</td>\n",
              "</tr>\n",
              "<tr>\n",
              "  <th>job_state_TN</th>                                      <td>   22.2721</td> <td>   60.614</td> <td>    0.367</td> <td> 0.720</td> <td> -111.138</td> <td>  155.682</td>\n",
              "</tr>\n",
              "<tr>\n",
              "  <th>job_state_TX</th>                                      <td>  -33.4320</td> <td>   42.276</td> <td>   -0.791</td> <td> 0.446</td> <td> -126.480</td> <td>   59.616</td>\n",
              "</tr>\n",
              "<tr>\n",
              "  <th>job_state_UT</th>                                      <td>  -10.3135</td> <td>   43.035</td> <td>   -0.240</td> <td> 0.815</td> <td> -105.033</td> <td>   84.406</td>\n",
              "</tr>\n",
              "<tr>\n",
              "  <th>job_state_VA</th>                                      <td>    4.6903</td> <td>   35.734</td> <td>    0.131</td> <td> 0.898</td> <td>  -73.960</td> <td>   83.341</td>\n",
              "</tr>\n",
              "<tr>\n",
              "  <th>job_state_WA</th>                                      <td>  127.9839</td> <td>   53.938</td> <td>    2.373</td> <td> 0.037</td> <td>    9.267</td> <td>  246.701</td>\n",
              "</tr>\n",
              "<tr>\n",
              "  <th>job_state_WI</th>                                      <td>  -70.5838</td> <td>   51.586</td> <td>   -1.368</td> <td> 0.199</td> <td> -184.124</td> <td>   42.956</td>\n",
              "</tr>\n",
              "<tr>\n",
              "  <th>job_simp_analyst</th>                                  <td>   15.2071</td> <td>   26.535</td> <td>    0.573</td> <td> 0.578</td> <td>  -43.195</td> <td>   73.609</td>\n",
              "</tr>\n",
              "<tr>\n",
              "  <th>job_simp_data engineer</th>                            <td>    8.6762</td> <td>   20.869</td> <td>    0.416</td> <td> 0.686</td> <td>  -37.256</td> <td>   54.609</td>\n",
              "</tr>\n",
              "<tr>\n",
              "  <th>job_simp_data scientist</th>                           <td>   12.4308</td> <td>   15.101</td> <td>    0.823</td> <td> 0.428</td> <td>  -20.807</td> <td>   45.669</td>\n",
              "</tr>\n",
              "<tr>\n",
              "  <th>job_simp_director</th>                                 <td>   69.5439</td> <td>   56.395</td> <td>    1.233</td> <td> 0.243</td> <td>  -54.581</td> <td>  193.669</td>\n",
              "</tr>\n",
              "<tr>\n",
              "  <th>job_simp_manager</th>                                  <td>  -27.8710</td> <td>   46.384</td> <td>   -0.601</td> <td> 0.560</td> <td> -129.961</td> <td>   74.219</td>\n",
              "</tr>\n",
              "<tr>\n",
              "  <th>job_simp_mle</th>                                      <td>  -15.3038</td> <td>   21.998</td> <td>   -0.696</td> <td> 0.501</td> <td>  -63.721</td> <td>   33.114</td>\n",
              "</tr>\n",
              "<tr>\n",
              "  <th>job_simp_na</th>                                       <td>  -25.3920</td> <td>   17.616</td> <td>   -1.441</td> <td> 0.177</td> <td>  -64.164</td> <td>   13.380</td>\n",
              "</tr>\n",
              "<tr>\n",
              "  <th>seniority_na</th>                                      <td>   22.8287</td> <td>   14.844</td> <td>    1.538</td> <td> 0.152</td> <td>   -9.842</td> <td>   55.499</td>\n",
              "</tr>\n",
              "<tr>\n",
              "  <th>seniority_senior</th>                                  <td>   14.4626</td> <td>   10.141</td> <td>    1.426</td> <td> 0.182</td> <td>   -7.858</td> <td>   36.783</td>\n",
              "</tr>\n",
              "</table>\n",
              "<table class=\"simpletable\">\n",
              "<tr>\n",
              "  <th>Omnibus:</th>       <td>65.936</td> <th>  Durbin-Watson:     </th> <td>   1.855</td> \n",
              "</tr>\n",
              "<tr>\n",
              "  <th>Prob(Omnibus):</th> <td> 0.000</td> <th>  Jarque-Bera (JB):  </th> <td> 710.056</td> \n",
              "</tr>\n",
              "<tr>\n",
              "  <th>Skew:</th>          <td>-1.793</td> <th>  Prob(JB):          </th> <td>6.51e-155</td>\n",
              "</tr>\n",
              "<tr>\n",
              "  <th>Kurtosis:</th>      <td>15.552</td> <th>  Cond. No.          </th> <td>1.00e+16</td> \n",
              "</tr>\n",
              "</table><br/><br/>Warnings:<br/>[1] Standard Errors assume that the covariance matrix of the errors is correctly specified.<br/>[2] The input rank is higher than the number of observations.<br/>[3] The smallest eigenvalue is 1.48e-23. This might indicate that there are<br/>strong multicollinearity problems or that the design matrix is singular."
            ],
            "text/plain": [
              "<class 'statsmodels.iolib.summary.Summary'>\n",
              "\"\"\"\n",
              "                            OLS Regression Results                            \n",
              "==============================================================================\n",
              "Dep. Variable:                      y   R-squared:                       0.902\n",
              "Model:                            OLS   Adj. R-squared:                  0.117\n",
              "Method:                 Least Squares   F-statistic:                     1.149\n",
              "Date:                Wed, 01 Jul 2020   Prob (F-statistic):              0.428\n",
              "Time:                        21:25:12   Log-Likelihood:                -342.80\n",
              "No. Observations:                 100   AIC:                             863.6\n",
              "Df Residuals:                      11   BIC:                             1095.\n",
              "Df Model:                          88                                         \n",
              "Covariance Type:            nonrobust                                         \n",
              "=====================================================================================================================\n",
              "                                                        coef    std err          t      P>|t|      [0.025      0.975]\n",
              "---------------------------------------------------------------------------------------------------------------------\n",
              "const                                                37.2913     20.654      1.806      0.098      -8.168      82.750\n",
              "Rating                                                5.7815      6.003      0.963      0.356      -7.431      18.994\n",
              "Competitors                                           6.4877      6.926      0.937      0.369      -8.756      21.731\n",
              "hourly                                             4.709e-13   4.92e-13      0.957      0.359   -6.12e-13    1.55e-12\n",
              "employer_provided                                 -1.848e-12   2.39e-12     -0.774      0.455    -7.1e-12     3.4e-12\n",
              "same_state                                           11.8778     12.823      0.926      0.374     -16.346      40.101\n",
              "age                                                   0.0893      0.199      0.449      0.662      -0.349       0.527\n",
              "python_yn                                            -2.5152     11.213     -0.224      0.827     -27.194      22.164\n",
              "spark                                                15.0577     14.248      1.057      0.313     -16.302      46.417\n",
              "aws                                                 -14.2271     15.012     -0.948      0.364     -47.268      18.814\n",
              "excel                                                 2.8866     24.356      0.119      0.908     -50.720      56.493\n",
              "job_desc                                              0.0025      0.006      0.414      0.687      -0.011       0.016\n",
              "Size_-1                                               5.4627      9.297      0.588      0.569     -15.000      25.925\n",
              "Size_1 to 50 employees                               15.4950     25.424      0.609      0.555     -40.463      71.453\n",
              "Size_10000+ employees                                72.3481     50.258      1.440      0.178     -38.270     182.966\n",
              "Size_1001 to 5000 employees                         -19.3613     26.679     -0.726      0.483     -78.082      39.360\n",
              "Size_201 to 500 employees                            21.0302     27.853      0.755      0.466     -40.274      82.334\n",
              "Size_5001 to 10000 employees                        -56.9758     48.835     -1.167      0.268    -164.460      50.509\n",
              "Size_501 to 1000 employees                           -6.5181     26.408     -0.247      0.810     -64.642      51.606\n",
              "Size_51 to 200 employees                              5.8105     17.445      0.333      0.745     -32.586      44.207\n",
              "Type of ownership_-1                                  5.4627      9.297      0.588      0.569     -15.000      25.925\n",
              "Type of ownership_Company - Private                 -14.8288     14.477     -1.024      0.328     -46.693      17.035\n",
              "Type of ownership_Company - Public                  -61.3501     29.804     -2.058      0.064    -126.948       4.247\n",
              "Type of ownership_Government                         70.8169     50.676      1.397      0.190     -40.721     182.355\n",
              "Type of ownership_Nonprofit Organization             25.5333     37.747      0.676      0.513     -57.547     108.613\n",
              "Type of ownership_Private Practice / Firm             2.0872     37.299      0.056      0.956     -80.007      84.181\n",
              "Type of ownership_Subsidiary or Business Segment      9.5701     29.523      0.324      0.752     -55.410      74.550\n",
              "Industry_-1                                           5.4627      9.297      0.588      0.569     -15.000      25.925\n",
              "Industry_Advertising & Marketing                      4.8767     20.045      0.243      0.812     -39.241      48.995\n",
              "Industry_Aerospace & Defense                         -2.6704     10.471     -0.255      0.803     -25.718      20.377\n",
              "Industry_Architectural & Engineering Services        -7.4594     32.647     -0.228      0.823     -79.314      64.395\n",
              "Industry_Banks & Credit Unions                       -2.3338     35.604     -0.066      0.949     -80.698      76.030\n",
              "Industry_Biotech & Pharmaceuticals                   18.0635     18.572      0.973      0.352     -22.812      58.939\n",
              "Industry_Chemical Manufacturing                     -42.2520     76.341     -0.553      0.591    -210.276     125.772\n",
              "Industry_Computer Hardware & Software                13.9916     16.880      0.829      0.425     -23.161      51.144\n",
              "Industry_Consulting                                  15.2593     34.424      0.443      0.666     -60.507      91.026\n",
              "Industry_Consumer Electronics & Appliances Stores    29.9259     30.801      0.972      0.352     -37.866      97.718\n",
              "Industry_Consumer Products Manufacturing             36.3599     79.814      0.456      0.658    -139.310     212.030\n",
              "Industry_Electrical & Electronic Manufacturing       38.9959     58.421      0.667      0.518     -89.588     167.579\n",
              "Industry_Enterprise Software & Network Solutions      1.4923     11.371      0.131      0.898     -23.535      26.520\n",
              "Industry_Federal Agencies                           -15.8518     18.635     -0.851      0.413     -56.867      25.163\n",
              "Industry_Health Care Services & Hospitals            16.8928     14.285      1.183      0.262     -14.548      48.333\n",
              "Industry_IT Services                                 -2.6535     20.979     -0.126      0.902     -48.829      43.521\n",
              "Industry_Insurance Agencies & Brokerages            -75.2746     71.780     -1.049      0.317    -233.262      82.713\n",
              "Industry_Insurance Carriers                          37.6977     43.166      0.873      0.401     -57.311     132.706\n",
              "Industry_Internet                                   -13.4568     21.104     -0.638      0.537     -59.907      32.993\n",
              "Industry_Investment Banking & Asset Management      -75.3686     42.552     -1.771      0.104    -169.025      18.287\n",
              "Industry_Lending                                     46.8182     24.309      1.926      0.080      -6.687     100.323\n",
              "Industry_Research & Development                      48.8456     27.952      1.747      0.108     -12.676     110.368\n",
              "Industry_Staffing & Outsourcing                     -64.8146     35.996     -1.801      0.099    -144.040      14.411\n",
              "Industry_Utilities                                   21.0771     23.564      0.894      0.390     -30.788      72.942\n",
              "Industry_Venture Capital & Private Equity             3.6677     34.178      0.107      0.916     -71.557      78.892\n",
              "Sector_-1                                             5.4627      9.297      0.588      0.569     -15.000      25.925\n",
              "Sector_Aerospace & Defense                           -2.6704     10.471     -0.255      0.803     -25.718      20.377\n",
              "Sector_Biotech & Pharmaceuticals                     18.0635     18.572      0.973      0.352     -22.812      58.939\n",
              "Sector_Business Services                             -3.2924     11.528     -0.286      0.780     -28.666      22.081\n",
              "Sector_Finance                                      -27.2165     19.319     -1.409      0.187     -69.737      15.304\n",
              "Sector_Government                                   -15.8518     18.635     -0.851      0.413     -56.867      25.163\n",
              "Sector_Health Care                                   16.8928     14.285      1.183      0.262     -14.548      48.333\n",
              "Sector_Information Technology                        -0.6264     15.438     -0.041      0.968     -34.605      33.352\n",
              "Sector_Insurance                                    -37.5769     38.912     -0.966      0.355    -123.222      48.069\n",
              "Sector_Manufacturing                                 33.1038     22.508      1.471      0.169     -16.435      82.643\n",
              "Sector_Oil, Gas, Energy & Utilities                  21.0771     23.564      0.894      0.390     -30.788      72.942\n",
              "Sector_Retail                                        29.9259     30.801      0.972      0.352     -37.866      97.718\n",
              "Revenue_$1 to $2 billion (USD)                       43.0162     46.939      0.916      0.379     -60.296     146.328\n",
              "Revenue_$1 to $5 million (USD)                      -21.4062     32.275     -0.663      0.521     -92.444      49.631\n",
              "Revenue_$10 to $25 million (USD)                      7.0201     24.496      0.287      0.780     -46.895      60.936\n",
              "Revenue_$10+ billion (USD)                          -76.6822     56.088     -1.367      0.199    -200.132      46.767\n",
              "Revenue_$100 to $500 million (USD)                    8.3699     37.163      0.225      0.826     -73.426      90.166\n",
              "Revenue_$2 to $5 billion (USD)                       84.6914     41.677      2.032      0.067      -7.039     176.422\n",
              "Revenue_$25 to $50 million (USD)                     17.3347     38.053      0.456      0.658     -66.418     101.088\n",
              "Revenue_$5 to $10 billion (USD)                     124.2656     66.765      1.861      0.090     -22.683     271.214\n",
              "Revenue_$5 to $10 million (USD)                     -49.6507     34.298     -1.448      0.176    -125.141      25.840\n",
              "Revenue_$50 to $100 million (USD)                   -16.1898     29.693     -0.545      0.596     -81.543      49.164\n",
              "Revenue_$500 million to $1 billion (USD)             -5.5989     27.551     -0.203      0.843     -66.239      55.041\n",
              "Revenue_-1                                            5.4627      9.297      0.588      0.569     -15.000      25.925\n",
              "Revenue_Less than $1 million (USD)                  -74.8985     54.230     -1.381      0.195    -194.257      44.460\n",
              "Revenue_Unknown / Non-Applicable                     -8.4428     15.217     -0.555      0.590     -41.936      25.050\n",
              "job_state_AZ                                         43.2496     69.128      0.626      0.544    -108.900     195.399\n",
              "job_state_CA                                        -17.4599     34.102     -0.512      0.619     -92.518      57.598\n",
              "job_state_DC                                         11.1214     44.722      0.249      0.808     -87.311     109.554\n",
              "job_state_DE                                         -9.6185     68.347     -0.141      0.891    -160.049     140.812\n",
              "job_state_FL                                        102.1387     74.514      1.371      0.198     -61.866     266.143\n",
              "job_state_GA                                        -34.0990     60.376     -0.565      0.584    -166.985      98.787\n",
              "job_state_IL                                        -12.2173     32.051     -0.381      0.710     -82.762      58.327\n",
              "job_state_IN                                         25.7223     66.372      0.388      0.706    -120.362     171.806\n",
              "job_state_KS                                        -16.9257     42.809     -0.395      0.700    -111.147      77.296\n",
              "job_state_MA                                        -25.3870     36.315     -0.699      0.499    -105.317      54.543\n",
              "job_state_MD                                         -3.1505     43.602     -0.072      0.944     -99.118      92.817\n",
              "job_state_MO                                        -28.4726     40.612     -0.701      0.498    -117.858      60.913\n",
              "job_state_NC                                         39.1166     30.618      1.278      0.228     -28.274     106.507\n",
              "job_state_NE                                        -11.0980     50.122     -0.221      0.829    -121.416      99.219\n",
              "job_state_NH                                         10.2641     57.952      0.177      0.863    -117.288     137.817\n",
              "job_state_NY                                        -15.8388     37.551     -0.422      0.681     -98.488      66.810\n",
              "job_state_OH                                         22.0216     64.727      0.340      0.740    -120.440     164.484\n",
              "job_state_OR                                        -66.7723     76.517     -0.873      0.402    -235.186     101.641\n",
              "job_state_PA                                         -3.5816     51.310     -0.070      0.946    -116.514     109.351\n",
              "job_state_RI                                        -83.3649     55.934     -1.490      0.164    -206.475      39.745\n",
              "job_state_SC                                        -41.6983     51.202     -0.814      0.433    -154.392      70.995\n",
              "job_state_TN                                         22.2721     60.614      0.367      0.720    -111.138     155.682\n",
              "job_state_TX                                        -33.4320     42.276     -0.791      0.446    -126.480      59.616\n",
              "job_state_UT                                        -10.3135     43.035     -0.240      0.815    -105.033      84.406\n",
              "job_state_VA                                          4.6903     35.734      0.131      0.898     -73.960      83.341\n",
              "job_state_WA                                        127.9839     53.938      2.373      0.037       9.267     246.701\n",
              "job_state_WI                                        -70.5838     51.586     -1.368      0.199    -184.124      42.956\n",
              "job_simp_analyst                                     15.2071     26.535      0.573      0.578     -43.195      73.609\n",
              "job_simp_data engineer                                8.6762     20.869      0.416      0.686     -37.256      54.609\n",
              "job_simp_data scientist                              12.4308     15.101      0.823      0.428     -20.807      45.669\n",
              "job_simp_director                                    69.5439     56.395      1.233      0.243     -54.581     193.669\n",
              "job_simp_manager                                    -27.8710     46.384     -0.601      0.560    -129.961      74.219\n",
              "job_simp_mle                                        -15.3038     21.998     -0.696      0.501     -63.721      33.114\n",
              "job_simp_na                                         -25.3920     17.616     -1.441      0.177     -64.164      13.380\n",
              "seniority_na                                         22.8287     14.844      1.538      0.152      -9.842      55.499\n",
              "seniority_senior                                     14.4626     10.141      1.426      0.182      -7.858      36.783\n",
              "==============================================================================\n",
              "Omnibus:                       65.936   Durbin-Watson:                   1.855\n",
              "Prob(Omnibus):                  0.000   Jarque-Bera (JB):              710.056\n",
              "Skew:                          -1.793   Prob(JB):                    6.51e-155\n",
              "Kurtosis:                      15.552   Cond. No.                     1.00e+16\n",
              "==============================================================================\n",
              "\n",
              "Warnings:\n",
              "[1] Standard Errors assume that the covariance matrix of the errors is correctly specified.\n",
              "[2] The input rank is higher than the number of observations.\n",
              "[3] The smallest eigenvalue is 1.48e-23. This might indicate that there are\n",
              "strong multicollinearity problems or that the design matrix is singular.\n",
              "\"\"\""
            ]
          },
          "metadata": {
            "tags": []
          },
          "execution_count": 34
        }
      ]
    },
    {
      "cell_type": "code",
      "metadata": {
        "id": "ATy-WzS5RPDK",
        "colab_type": "code",
        "colab": {}
      },
      "source": [
        "from sklearn.linear_model import LinearRegression\n",
        "lm = LinearRegression()"
      ],
      "execution_count": null,
      "outputs": []
    },
    {
      "cell_type": "code",
      "metadata": {
        "id": "rhg3mLMYS1kG",
        "colab_type": "code",
        "colab": {
          "base_uri": "https://localhost:8080/",
          "height": 34
        },
        "outputId": "fd3945d1-ea63-49dd-f2fe-2b49e91f8b80"
      },
      "source": [
        "lm.fit(X_train, y_train)"
      ],
      "execution_count": null,
      "outputs": [
        {
          "output_type": "execute_result",
          "data": {
            "text/plain": [
              "LinearRegression(copy_X=True, fit_intercept=True, n_jobs=None, normalize=False)"
            ]
          },
          "metadata": {
            "tags": []
          },
          "execution_count": 36
        }
      ]
    },
    {
      "cell_type": "code",
      "metadata": {
        "id": "qfK6MA5sTGGC",
        "colab_type": "code",
        "colab": {
          "base_uri": "https://localhost:8080/",
          "height": 34
        },
        "outputId": "d66913fa-b4ee-4655-e2e9-e9a617e96a2a"
      },
      "source": [
        "from sklearn.model_selection import cross_val_score\n",
        "# pull out sample data and a validation set. Run the model on sample and eval on val set.\n",
        "# How far from avg are we using neg mean abs error\n",
        "cross_val_score(lm, X_train,y_train,scoring = 'neg_mean_absolute_error',cv =3)"
      ],
      "execution_count": null,
      "outputs": [
        {
          "output_type": "execute_result",
          "data": {
            "text/plain": [
              "array([-29.03728435, -60.48022277, -38.64979397])"
            ]
          },
          "metadata": {
            "tags": []
          },
          "execution_count": 39
        }
      ]
    },
    {
      "cell_type": "code",
      "metadata": {
        "id": "liSJEfd4TTlc",
        "colab_type": "code",
        "colab": {
          "base_uri": "https://localhost:8080/",
          "height": 496
        },
        "outputId": "e5c5e327-a215-44c5-c66c-d9ecb4a6a142"
      },
      "source": [
        "X_sm"
      ],
      "execution_count": null,
      "outputs": [
        {
          "output_type": "execute_result",
          "data": {
            "text/html": [
              "<div>\n",
              "<style scoped>\n",
              "    .dataframe tbody tr th:only-of-type {\n",
              "        vertical-align: middle;\n",
              "    }\n",
              "\n",
              "    .dataframe tbody tr th {\n",
              "        vertical-align: top;\n",
              "    }\n",
              "\n",
              "    .dataframe thead th {\n",
              "        text-align: right;\n",
              "    }\n",
              "</style>\n",
              "<table border=\"1\" class=\"dataframe\">\n",
              "  <thead>\n",
              "    <tr style=\"text-align: right;\">\n",
              "      <th></th>\n",
              "      <th>const</th>\n",
              "      <th>Rating</th>\n",
              "      <th>Competitors</th>\n",
              "      <th>hourly</th>\n",
              "      <th>employer_provided</th>\n",
              "      <th>same_state</th>\n",
              "      <th>age</th>\n",
              "      <th>python_yn</th>\n",
              "      <th>spark</th>\n",
              "      <th>aws</th>\n",
              "      <th>excel</th>\n",
              "      <th>job_desc</th>\n",
              "      <th>Size_-1</th>\n",
              "      <th>Size_1 to 50 employees</th>\n",
              "      <th>Size_10000+ employees</th>\n",
              "      <th>Size_1001 to 5000 employees</th>\n",
              "      <th>Size_201 to 500 employees</th>\n",
              "      <th>Size_5001 to 10000 employees</th>\n",
              "      <th>Size_501 to 1000 employees</th>\n",
              "      <th>Size_51 to 200 employees</th>\n",
              "      <th>Type of ownership_-1</th>\n",
              "      <th>Type of ownership_Company - Private</th>\n",
              "      <th>Type of ownership_Company - Public</th>\n",
              "      <th>Type of ownership_Government</th>\n",
              "      <th>Type of ownership_Nonprofit Organization</th>\n",
              "      <th>Type of ownership_Private Practice / Firm</th>\n",
              "      <th>Type of ownership_Subsidiary or Business Segment</th>\n",
              "      <th>Industry_-1</th>\n",
              "      <th>Industry_Advertising &amp; Marketing</th>\n",
              "      <th>Industry_Aerospace &amp; Defense</th>\n",
              "      <th>Industry_Architectural &amp; Engineering Services</th>\n",
              "      <th>Industry_Banks &amp; Credit Unions</th>\n",
              "      <th>Industry_Biotech &amp; Pharmaceuticals</th>\n",
              "      <th>Industry_Chemical Manufacturing</th>\n",
              "      <th>Industry_Computer Hardware &amp; Software</th>\n",
              "      <th>Industry_Consulting</th>\n",
              "      <th>Industry_Consumer Electronics &amp; Appliances Stores</th>\n",
              "      <th>Industry_Consumer Products Manufacturing</th>\n",
              "      <th>Industry_Electrical &amp; Electronic Manufacturing</th>\n",
              "      <th>Industry_Enterprise Software &amp; Network Solutions</th>\n",
              "      <th>...</th>\n",
              "      <th>Revenue_$500 million to $1 billion (USD)</th>\n",
              "      <th>Revenue_-1</th>\n",
              "      <th>Revenue_Less than $1 million (USD)</th>\n",
              "      <th>Revenue_Unknown / Non-Applicable</th>\n",
              "      <th>job_state_AZ</th>\n",
              "      <th>job_state_CA</th>\n",
              "      <th>job_state_DC</th>\n",
              "      <th>job_state_DE</th>\n",
              "      <th>job_state_FL</th>\n",
              "      <th>job_state_GA</th>\n",
              "      <th>job_state_IL</th>\n",
              "      <th>job_state_IN</th>\n",
              "      <th>job_state_KS</th>\n",
              "      <th>job_state_MA</th>\n",
              "      <th>job_state_MD</th>\n",
              "      <th>job_state_MO</th>\n",
              "      <th>job_state_NC</th>\n",
              "      <th>job_state_NE</th>\n",
              "      <th>job_state_NH</th>\n",
              "      <th>job_state_NY</th>\n",
              "      <th>job_state_OH</th>\n",
              "      <th>job_state_OR</th>\n",
              "      <th>job_state_PA</th>\n",
              "      <th>job_state_RI</th>\n",
              "      <th>job_state_SC</th>\n",
              "      <th>job_state_TN</th>\n",
              "      <th>job_state_TX</th>\n",
              "      <th>job_state_UT</th>\n",
              "      <th>job_state_VA</th>\n",
              "      <th>job_state_WA</th>\n",
              "      <th>job_state_WI</th>\n",
              "      <th>job_simp_analyst</th>\n",
              "      <th>job_simp_data engineer</th>\n",
              "      <th>job_simp_data scientist</th>\n",
              "      <th>job_simp_director</th>\n",
              "      <th>job_simp_manager</th>\n",
              "      <th>job_simp_mle</th>\n",
              "      <th>job_simp_na</th>\n",
              "      <th>seniority_na</th>\n",
              "      <th>seniority_senior</th>\n",
              "    </tr>\n",
              "  </thead>\n",
              "  <tbody>\n",
              "    <tr>\n",
              "      <th>0</th>\n",
              "      <td>1.0</td>\n",
              "      <td>4.2</td>\n",
              "      <td>0</td>\n",
              "      <td>0</td>\n",
              "      <td>0</td>\n",
              "      <td>0</td>\n",
              "      <td>52</td>\n",
              "      <td>0</td>\n",
              "      <td>0</td>\n",
              "      <td>0</td>\n",
              "      <td>0</td>\n",
              "      <td>4076</td>\n",
              "      <td>0</td>\n",
              "      <td>0</td>\n",
              "      <td>0</td>\n",
              "      <td>0</td>\n",
              "      <td>0</td>\n",
              "      <td>1</td>\n",
              "      <td>0</td>\n",
              "      <td>0</td>\n",
              "      <td>0</td>\n",
              "      <td>0</td>\n",
              "      <td>1</td>\n",
              "      <td>0</td>\n",
              "      <td>0</td>\n",
              "      <td>0</td>\n",
              "      <td>0</td>\n",
              "      <td>0</td>\n",
              "      <td>0</td>\n",
              "      <td>0</td>\n",
              "      <td>0</td>\n",
              "      <td>0</td>\n",
              "      <td>0</td>\n",
              "      <td>0</td>\n",
              "      <td>0</td>\n",
              "      <td>0</td>\n",
              "      <td>0</td>\n",
              "      <td>0</td>\n",
              "      <td>0</td>\n",
              "      <td>0</td>\n",
              "      <td>...</td>\n",
              "      <td>0</td>\n",
              "      <td>0</td>\n",
              "      <td>0</td>\n",
              "      <td>0</td>\n",
              "      <td>0</td>\n",
              "      <td>0</td>\n",
              "      <td>0</td>\n",
              "      <td>0</td>\n",
              "      <td>0</td>\n",
              "      <td>0</td>\n",
              "      <td>0</td>\n",
              "      <td>0</td>\n",
              "      <td>0</td>\n",
              "      <td>0</td>\n",
              "      <td>0</td>\n",
              "      <td>0</td>\n",
              "      <td>0</td>\n",
              "      <td>0</td>\n",
              "      <td>0</td>\n",
              "      <td>0</td>\n",
              "      <td>0</td>\n",
              "      <td>0</td>\n",
              "      <td>0</td>\n",
              "      <td>0</td>\n",
              "      <td>0</td>\n",
              "      <td>0</td>\n",
              "      <td>0</td>\n",
              "      <td>0</td>\n",
              "      <td>1</td>\n",
              "      <td>0</td>\n",
              "      <td>0</td>\n",
              "      <td>0</td>\n",
              "      <td>0</td>\n",
              "      <td>1</td>\n",
              "      <td>0</td>\n",
              "      <td>0</td>\n",
              "      <td>0</td>\n",
              "      <td>0</td>\n",
              "      <td>1</td>\n",
              "      <td>0</td>\n",
              "    </tr>\n",
              "    <tr>\n",
              "      <th>1</th>\n",
              "      <td>1.0</td>\n",
              "      <td>2.9</td>\n",
              "      <td>3</td>\n",
              "      <td>0</td>\n",
              "      <td>0</td>\n",
              "      <td>1</td>\n",
              "      <td>22</td>\n",
              "      <td>1</td>\n",
              "      <td>0</td>\n",
              "      <td>0</td>\n",
              "      <td>0</td>\n",
              "      <td>2728</td>\n",
              "      <td>0</td>\n",
              "      <td>0</td>\n",
              "      <td>0</td>\n",
              "      <td>0</td>\n",
              "      <td>0</td>\n",
              "      <td>0</td>\n",
              "      <td>0</td>\n",
              "      <td>1</td>\n",
              "      <td>0</td>\n",
              "      <td>1</td>\n",
              "      <td>0</td>\n",
              "      <td>0</td>\n",
              "      <td>0</td>\n",
              "      <td>0</td>\n",
              "      <td>0</td>\n",
              "      <td>0</td>\n",
              "      <td>1</td>\n",
              "      <td>0</td>\n",
              "      <td>0</td>\n",
              "      <td>0</td>\n",
              "      <td>0</td>\n",
              "      <td>0</td>\n",
              "      <td>0</td>\n",
              "      <td>0</td>\n",
              "      <td>0</td>\n",
              "      <td>0</td>\n",
              "      <td>0</td>\n",
              "      <td>0</td>\n",
              "      <td>...</td>\n",
              "      <td>0</td>\n",
              "      <td>0</td>\n",
              "      <td>0</td>\n",
              "      <td>1</td>\n",
              "      <td>0</td>\n",
              "      <td>0</td>\n",
              "      <td>0</td>\n",
              "      <td>0</td>\n",
              "      <td>0</td>\n",
              "      <td>0</td>\n",
              "      <td>0</td>\n",
              "      <td>0</td>\n",
              "      <td>0</td>\n",
              "      <td>0</td>\n",
              "      <td>0</td>\n",
              "      <td>0</td>\n",
              "      <td>0</td>\n",
              "      <td>0</td>\n",
              "      <td>0</td>\n",
              "      <td>1</td>\n",
              "      <td>0</td>\n",
              "      <td>0</td>\n",
              "      <td>0</td>\n",
              "      <td>0</td>\n",
              "      <td>0</td>\n",
              "      <td>0</td>\n",
              "      <td>0</td>\n",
              "      <td>0</td>\n",
              "      <td>0</td>\n",
              "      <td>0</td>\n",
              "      <td>0</td>\n",
              "      <td>0</td>\n",
              "      <td>0</td>\n",
              "      <td>1</td>\n",
              "      <td>0</td>\n",
              "      <td>0</td>\n",
              "      <td>0</td>\n",
              "      <td>0</td>\n",
              "      <td>1</td>\n",
              "      <td>0</td>\n",
              "    </tr>\n",
              "    <tr>\n",
              "      <th>2</th>\n",
              "      <td>1.0</td>\n",
              "      <td>3.4</td>\n",
              "      <td>0</td>\n",
              "      <td>0</td>\n",
              "      <td>0</td>\n",
              "      <td>0</td>\n",
              "      <td>34</td>\n",
              "      <td>1</td>\n",
              "      <td>0</td>\n",
              "      <td>1</td>\n",
              "      <td>0</td>\n",
              "      <td>4794</td>\n",
              "      <td>0</td>\n",
              "      <td>0</td>\n",
              "      <td>0</td>\n",
              "      <td>1</td>\n",
              "      <td>0</td>\n",
              "      <td>0</td>\n",
              "      <td>0</td>\n",
              "      <td>0</td>\n",
              "      <td>0</td>\n",
              "      <td>1</td>\n",
              "      <td>0</td>\n",
              "      <td>0</td>\n",
              "      <td>0</td>\n",
              "      <td>0</td>\n",
              "      <td>0</td>\n",
              "      <td>0</td>\n",
              "      <td>0</td>\n",
              "      <td>0</td>\n",
              "      <td>0</td>\n",
              "      <td>0</td>\n",
              "      <td>0</td>\n",
              "      <td>0</td>\n",
              "      <td>0</td>\n",
              "      <td>1</td>\n",
              "      <td>0</td>\n",
              "      <td>0</td>\n",
              "      <td>0</td>\n",
              "      <td>0</td>\n",
              "      <td>...</td>\n",
              "      <td>0</td>\n",
              "      <td>0</td>\n",
              "      <td>0</td>\n",
              "      <td>0</td>\n",
              "      <td>0</td>\n",
              "      <td>0</td>\n",
              "      <td>1</td>\n",
              "      <td>0</td>\n",
              "      <td>0</td>\n",
              "      <td>0</td>\n",
              "      <td>0</td>\n",
              "      <td>0</td>\n",
              "      <td>0</td>\n",
              "      <td>0</td>\n",
              "      <td>0</td>\n",
              "      <td>0</td>\n",
              "      <td>0</td>\n",
              "      <td>0</td>\n",
              "      <td>0</td>\n",
              "      <td>0</td>\n",
              "      <td>0</td>\n",
              "      <td>0</td>\n",
              "      <td>0</td>\n",
              "      <td>0</td>\n",
              "      <td>0</td>\n",
              "      <td>0</td>\n",
              "      <td>0</td>\n",
              "      <td>0</td>\n",
              "      <td>0</td>\n",
              "      <td>0</td>\n",
              "      <td>0</td>\n",
              "      <td>0</td>\n",
              "      <td>0</td>\n",
              "      <td>1</td>\n",
              "      <td>0</td>\n",
              "      <td>0</td>\n",
              "      <td>0</td>\n",
              "      <td>0</td>\n",
              "      <td>1</td>\n",
              "      <td>0</td>\n",
              "    </tr>\n",
              "    <tr>\n",
              "      <th>3</th>\n",
              "      <td>1.0</td>\n",
              "      <td>3.1</td>\n",
              "      <td>3</td>\n",
              "      <td>0</td>\n",
              "      <td>0</td>\n",
              "      <td>1</td>\n",
              "      <td>27</td>\n",
              "      <td>0</td>\n",
              "      <td>0</td>\n",
              "      <td>1</td>\n",
              "      <td>0</td>\n",
              "      <td>3389</td>\n",
              "      <td>0</td>\n",
              "      <td>0</td>\n",
              "      <td>0</td>\n",
              "      <td>1</td>\n",
              "      <td>0</td>\n",
              "      <td>0</td>\n",
              "      <td>0</td>\n",
              "      <td>0</td>\n",
              "      <td>0</td>\n",
              "      <td>0</td>\n",
              "      <td>0</td>\n",
              "      <td>0</td>\n",
              "      <td>1</td>\n",
              "      <td>0</td>\n",
              "      <td>0</td>\n",
              "      <td>0</td>\n",
              "      <td>0</td>\n",
              "      <td>0</td>\n",
              "      <td>0</td>\n",
              "      <td>0</td>\n",
              "      <td>0</td>\n",
              "      <td>0</td>\n",
              "      <td>0</td>\n",
              "      <td>0</td>\n",
              "      <td>0</td>\n",
              "      <td>0</td>\n",
              "      <td>0</td>\n",
              "      <td>0</td>\n",
              "      <td>...</td>\n",
              "      <td>0</td>\n",
              "      <td>0</td>\n",
              "      <td>0</td>\n",
              "      <td>1</td>\n",
              "      <td>0</td>\n",
              "      <td>0</td>\n",
              "      <td>0</td>\n",
              "      <td>0</td>\n",
              "      <td>0</td>\n",
              "      <td>0</td>\n",
              "      <td>0</td>\n",
              "      <td>0</td>\n",
              "      <td>0</td>\n",
              "      <td>0</td>\n",
              "      <td>0</td>\n",
              "      <td>0</td>\n",
              "      <td>0</td>\n",
              "      <td>0</td>\n",
              "      <td>0</td>\n",
              "      <td>1</td>\n",
              "      <td>0</td>\n",
              "      <td>0</td>\n",
              "      <td>0</td>\n",
              "      <td>0</td>\n",
              "      <td>0</td>\n",
              "      <td>0</td>\n",
              "      <td>0</td>\n",
              "      <td>0</td>\n",
              "      <td>0</td>\n",
              "      <td>0</td>\n",
              "      <td>0</td>\n",
              "      <td>0</td>\n",
              "      <td>0</td>\n",
              "      <td>1</td>\n",
              "      <td>0</td>\n",
              "      <td>0</td>\n",
              "      <td>0</td>\n",
              "      <td>0</td>\n",
              "      <td>0</td>\n",
              "      <td>1</td>\n",
              "    </tr>\n",
              "    <tr>\n",
              "      <th>4</th>\n",
              "      <td>1.0</td>\n",
              "      <td>3.6</td>\n",
              "      <td>0</td>\n",
              "      <td>0</td>\n",
              "      <td>0</td>\n",
              "      <td>1</td>\n",
              "      <td>6</td>\n",
              "      <td>1</td>\n",
              "      <td>0</td>\n",
              "      <td>0</td>\n",
              "      <td>0</td>\n",
              "      <td>3482</td>\n",
              "      <td>0</td>\n",
              "      <td>0</td>\n",
              "      <td>0</td>\n",
              "      <td>0</td>\n",
              "      <td>0</td>\n",
              "      <td>0</td>\n",
              "      <td>0</td>\n",
              "      <td>1</td>\n",
              "      <td>0</td>\n",
              "      <td>1</td>\n",
              "      <td>0</td>\n",
              "      <td>0</td>\n",
              "      <td>0</td>\n",
              "      <td>0</td>\n",
              "      <td>0</td>\n",
              "      <td>0</td>\n",
              "      <td>0</td>\n",
              "      <td>0</td>\n",
              "      <td>0</td>\n",
              "      <td>0</td>\n",
              "      <td>0</td>\n",
              "      <td>0</td>\n",
              "      <td>0</td>\n",
              "      <td>0</td>\n",
              "      <td>0</td>\n",
              "      <td>0</td>\n",
              "      <td>0</td>\n",
              "      <td>1</td>\n",
              "      <td>...</td>\n",
              "      <td>0</td>\n",
              "      <td>0</td>\n",
              "      <td>0</td>\n",
              "      <td>1</td>\n",
              "      <td>0</td>\n",
              "      <td>0</td>\n",
              "      <td>0</td>\n",
              "      <td>0</td>\n",
              "      <td>0</td>\n",
              "      <td>0</td>\n",
              "      <td>1</td>\n",
              "      <td>0</td>\n",
              "      <td>0</td>\n",
              "      <td>0</td>\n",
              "      <td>0</td>\n",
              "      <td>0</td>\n",
              "      <td>0</td>\n",
              "      <td>0</td>\n",
              "      <td>0</td>\n",
              "      <td>0</td>\n",
              "      <td>0</td>\n",
              "      <td>0</td>\n",
              "      <td>0</td>\n",
              "      <td>0</td>\n",
              "      <td>0</td>\n",
              "      <td>0</td>\n",
              "      <td>0</td>\n",
              "      <td>0</td>\n",
              "      <td>0</td>\n",
              "      <td>0</td>\n",
              "      <td>0</td>\n",
              "      <td>0</td>\n",
              "      <td>0</td>\n",
              "      <td>1</td>\n",
              "      <td>0</td>\n",
              "      <td>0</td>\n",
              "      <td>0</td>\n",
              "      <td>0</td>\n",
              "      <td>1</td>\n",
              "      <td>0</td>\n",
              "    </tr>\n",
              "    <tr>\n",
              "      <th>...</th>\n",
              "      <td>...</td>\n",
              "      <td>...</td>\n",
              "      <td>...</td>\n",
              "      <td>...</td>\n",
              "      <td>...</td>\n",
              "      <td>...</td>\n",
              "      <td>...</td>\n",
              "      <td>...</td>\n",
              "      <td>...</td>\n",
              "      <td>...</td>\n",
              "      <td>...</td>\n",
              "      <td>...</td>\n",
              "      <td>...</td>\n",
              "      <td>...</td>\n",
              "      <td>...</td>\n",
              "      <td>...</td>\n",
              "      <td>...</td>\n",
              "      <td>...</td>\n",
              "      <td>...</td>\n",
              "      <td>...</td>\n",
              "      <td>...</td>\n",
              "      <td>...</td>\n",
              "      <td>...</td>\n",
              "      <td>...</td>\n",
              "      <td>...</td>\n",
              "      <td>...</td>\n",
              "      <td>...</td>\n",
              "      <td>...</td>\n",
              "      <td>...</td>\n",
              "      <td>...</td>\n",
              "      <td>...</td>\n",
              "      <td>...</td>\n",
              "      <td>...</td>\n",
              "      <td>...</td>\n",
              "      <td>...</td>\n",
              "      <td>...</td>\n",
              "      <td>...</td>\n",
              "      <td>...</td>\n",
              "      <td>...</td>\n",
              "      <td>...</td>\n",
              "      <td>...</td>\n",
              "      <td>...</td>\n",
              "      <td>...</td>\n",
              "      <td>...</td>\n",
              "      <td>...</td>\n",
              "      <td>...</td>\n",
              "      <td>...</td>\n",
              "      <td>...</td>\n",
              "      <td>...</td>\n",
              "      <td>...</td>\n",
              "      <td>...</td>\n",
              "      <td>...</td>\n",
              "      <td>...</td>\n",
              "      <td>...</td>\n",
              "      <td>...</td>\n",
              "      <td>...</td>\n",
              "      <td>...</td>\n",
              "      <td>...</td>\n",
              "      <td>...</td>\n",
              "      <td>...</td>\n",
              "      <td>...</td>\n",
              "      <td>...</td>\n",
              "      <td>...</td>\n",
              "      <td>...</td>\n",
              "      <td>...</td>\n",
              "      <td>...</td>\n",
              "      <td>...</td>\n",
              "      <td>...</td>\n",
              "      <td>...</td>\n",
              "      <td>...</td>\n",
              "      <td>...</td>\n",
              "      <td>...</td>\n",
              "      <td>...</td>\n",
              "      <td>...</td>\n",
              "      <td>...</td>\n",
              "      <td>...</td>\n",
              "      <td>...</td>\n",
              "      <td>...</td>\n",
              "      <td>...</td>\n",
              "      <td>...</td>\n",
              "      <td>...</td>\n",
              "    </tr>\n",
              "    <tr>\n",
              "      <th>95</th>\n",
              "      <td>1.0</td>\n",
              "      <td>3.7</td>\n",
              "      <td>0</td>\n",
              "      <td>0</td>\n",
              "      <td>0</td>\n",
              "      <td>1</td>\n",
              "      <td>19</td>\n",
              "      <td>0</td>\n",
              "      <td>1</td>\n",
              "      <td>0</td>\n",
              "      <td>0</td>\n",
              "      <td>5355</td>\n",
              "      <td>0</td>\n",
              "      <td>0</td>\n",
              "      <td>0</td>\n",
              "      <td>1</td>\n",
              "      <td>0</td>\n",
              "      <td>0</td>\n",
              "      <td>0</td>\n",
              "      <td>0</td>\n",
              "      <td>0</td>\n",
              "      <td>1</td>\n",
              "      <td>0</td>\n",
              "      <td>0</td>\n",
              "      <td>0</td>\n",
              "      <td>0</td>\n",
              "      <td>0</td>\n",
              "      <td>0</td>\n",
              "      <td>0</td>\n",
              "      <td>0</td>\n",
              "      <td>0</td>\n",
              "      <td>0</td>\n",
              "      <td>0</td>\n",
              "      <td>0</td>\n",
              "      <td>0</td>\n",
              "      <td>0</td>\n",
              "      <td>0</td>\n",
              "      <td>0</td>\n",
              "      <td>0</td>\n",
              "      <td>1</td>\n",
              "      <td>...</td>\n",
              "      <td>0</td>\n",
              "      <td>0</td>\n",
              "      <td>0</td>\n",
              "      <td>1</td>\n",
              "      <td>0</td>\n",
              "      <td>0</td>\n",
              "      <td>0</td>\n",
              "      <td>0</td>\n",
              "      <td>0</td>\n",
              "      <td>0</td>\n",
              "      <td>1</td>\n",
              "      <td>0</td>\n",
              "      <td>0</td>\n",
              "      <td>0</td>\n",
              "      <td>0</td>\n",
              "      <td>0</td>\n",
              "      <td>0</td>\n",
              "      <td>0</td>\n",
              "      <td>0</td>\n",
              "      <td>0</td>\n",
              "      <td>0</td>\n",
              "      <td>0</td>\n",
              "      <td>0</td>\n",
              "      <td>0</td>\n",
              "      <td>0</td>\n",
              "      <td>0</td>\n",
              "      <td>0</td>\n",
              "      <td>0</td>\n",
              "      <td>0</td>\n",
              "      <td>0</td>\n",
              "      <td>0</td>\n",
              "      <td>0</td>\n",
              "      <td>1</td>\n",
              "      <td>0</td>\n",
              "      <td>0</td>\n",
              "      <td>0</td>\n",
              "      <td>0</td>\n",
              "      <td>0</td>\n",
              "      <td>1</td>\n",
              "      <td>0</td>\n",
              "    </tr>\n",
              "    <tr>\n",
              "      <th>96</th>\n",
              "      <td>1.0</td>\n",
              "      <td>4.8</td>\n",
              "      <td>3</td>\n",
              "      <td>0</td>\n",
              "      <td>0</td>\n",
              "      <td>1</td>\n",
              "      <td>5</td>\n",
              "      <td>1</td>\n",
              "      <td>0</td>\n",
              "      <td>0</td>\n",
              "      <td>0</td>\n",
              "      <td>3826</td>\n",
              "      <td>0</td>\n",
              "      <td>0</td>\n",
              "      <td>0</td>\n",
              "      <td>0</td>\n",
              "      <td>0</td>\n",
              "      <td>0</td>\n",
              "      <td>0</td>\n",
              "      <td>1</td>\n",
              "      <td>0</td>\n",
              "      <td>1</td>\n",
              "      <td>0</td>\n",
              "      <td>0</td>\n",
              "      <td>0</td>\n",
              "      <td>0</td>\n",
              "      <td>0</td>\n",
              "      <td>0</td>\n",
              "      <td>0</td>\n",
              "      <td>0</td>\n",
              "      <td>0</td>\n",
              "      <td>0</td>\n",
              "      <td>0</td>\n",
              "      <td>0</td>\n",
              "      <td>1</td>\n",
              "      <td>0</td>\n",
              "      <td>0</td>\n",
              "      <td>0</td>\n",
              "      <td>0</td>\n",
              "      <td>0</td>\n",
              "      <td>...</td>\n",
              "      <td>0</td>\n",
              "      <td>0</td>\n",
              "      <td>0</td>\n",
              "      <td>1</td>\n",
              "      <td>0</td>\n",
              "      <td>1</td>\n",
              "      <td>0</td>\n",
              "      <td>0</td>\n",
              "      <td>0</td>\n",
              "      <td>0</td>\n",
              "      <td>0</td>\n",
              "      <td>0</td>\n",
              "      <td>0</td>\n",
              "      <td>0</td>\n",
              "      <td>0</td>\n",
              "      <td>0</td>\n",
              "      <td>0</td>\n",
              "      <td>0</td>\n",
              "      <td>0</td>\n",
              "      <td>0</td>\n",
              "      <td>0</td>\n",
              "      <td>0</td>\n",
              "      <td>0</td>\n",
              "      <td>0</td>\n",
              "      <td>0</td>\n",
              "      <td>0</td>\n",
              "      <td>0</td>\n",
              "      <td>0</td>\n",
              "      <td>0</td>\n",
              "      <td>0</td>\n",
              "      <td>0</td>\n",
              "      <td>0</td>\n",
              "      <td>0</td>\n",
              "      <td>0</td>\n",
              "      <td>0</td>\n",
              "      <td>0</td>\n",
              "      <td>1</td>\n",
              "      <td>0</td>\n",
              "      <td>0</td>\n",
              "      <td>1</td>\n",
              "    </tr>\n",
              "    <tr>\n",
              "      <th>97</th>\n",
              "      <td>1.0</td>\n",
              "      <td>4.4</td>\n",
              "      <td>3</td>\n",
              "      <td>0</td>\n",
              "      <td>0</td>\n",
              "      <td>1</td>\n",
              "      <td>37</td>\n",
              "      <td>0</td>\n",
              "      <td>0</td>\n",
              "      <td>0</td>\n",
              "      <td>0</td>\n",
              "      <td>474</td>\n",
              "      <td>0</td>\n",
              "      <td>0</td>\n",
              "      <td>0</td>\n",
              "      <td>0</td>\n",
              "      <td>0</td>\n",
              "      <td>1</td>\n",
              "      <td>0</td>\n",
              "      <td>0</td>\n",
              "      <td>0</td>\n",
              "      <td>0</td>\n",
              "      <td>1</td>\n",
              "      <td>0</td>\n",
              "      <td>0</td>\n",
              "      <td>0</td>\n",
              "      <td>0</td>\n",
              "      <td>0</td>\n",
              "      <td>0</td>\n",
              "      <td>0</td>\n",
              "      <td>0</td>\n",
              "      <td>0</td>\n",
              "      <td>0</td>\n",
              "      <td>0</td>\n",
              "      <td>1</td>\n",
              "      <td>0</td>\n",
              "      <td>0</td>\n",
              "      <td>0</td>\n",
              "      <td>0</td>\n",
              "      <td>0</td>\n",
              "      <td>...</td>\n",
              "      <td>0</td>\n",
              "      <td>0</td>\n",
              "      <td>0</td>\n",
              "      <td>0</td>\n",
              "      <td>0</td>\n",
              "      <td>1</td>\n",
              "      <td>0</td>\n",
              "      <td>0</td>\n",
              "      <td>0</td>\n",
              "      <td>0</td>\n",
              "      <td>0</td>\n",
              "      <td>0</td>\n",
              "      <td>0</td>\n",
              "      <td>0</td>\n",
              "      <td>0</td>\n",
              "      <td>0</td>\n",
              "      <td>0</td>\n",
              "      <td>0</td>\n",
              "      <td>0</td>\n",
              "      <td>0</td>\n",
              "      <td>0</td>\n",
              "      <td>0</td>\n",
              "      <td>0</td>\n",
              "      <td>0</td>\n",
              "      <td>0</td>\n",
              "      <td>0</td>\n",
              "      <td>0</td>\n",
              "      <td>0</td>\n",
              "      <td>0</td>\n",
              "      <td>0</td>\n",
              "      <td>0</td>\n",
              "      <td>0</td>\n",
              "      <td>0</td>\n",
              "      <td>1</td>\n",
              "      <td>0</td>\n",
              "      <td>0</td>\n",
              "      <td>0</td>\n",
              "      <td>0</td>\n",
              "      <td>0</td>\n",
              "      <td>1</td>\n",
              "    </tr>\n",
              "    <tr>\n",
              "      <th>98</th>\n",
              "      <td>1.0</td>\n",
              "      <td>3.7</td>\n",
              "      <td>2</td>\n",
              "      <td>0</td>\n",
              "      <td>0</td>\n",
              "      <td>0</td>\n",
              "      <td>7</td>\n",
              "      <td>1</td>\n",
              "      <td>0</td>\n",
              "      <td>0</td>\n",
              "      <td>0</td>\n",
              "      <td>3182</td>\n",
              "      <td>0</td>\n",
              "      <td>0</td>\n",
              "      <td>1</td>\n",
              "      <td>0</td>\n",
              "      <td>0</td>\n",
              "      <td>0</td>\n",
              "      <td>0</td>\n",
              "      <td>0</td>\n",
              "      <td>0</td>\n",
              "      <td>0</td>\n",
              "      <td>1</td>\n",
              "      <td>0</td>\n",
              "      <td>0</td>\n",
              "      <td>0</td>\n",
              "      <td>0</td>\n",
              "      <td>0</td>\n",
              "      <td>0</td>\n",
              "      <td>0</td>\n",
              "      <td>0</td>\n",
              "      <td>0</td>\n",
              "      <td>0</td>\n",
              "      <td>0</td>\n",
              "      <td>0</td>\n",
              "      <td>0</td>\n",
              "      <td>0</td>\n",
              "      <td>0</td>\n",
              "      <td>0</td>\n",
              "      <td>1</td>\n",
              "      <td>...</td>\n",
              "      <td>0</td>\n",
              "      <td>0</td>\n",
              "      <td>0</td>\n",
              "      <td>0</td>\n",
              "      <td>0</td>\n",
              "      <td>0</td>\n",
              "      <td>0</td>\n",
              "      <td>0</td>\n",
              "      <td>0</td>\n",
              "      <td>0</td>\n",
              "      <td>0</td>\n",
              "      <td>0</td>\n",
              "      <td>0</td>\n",
              "      <td>0</td>\n",
              "      <td>0</td>\n",
              "      <td>0</td>\n",
              "      <td>0</td>\n",
              "      <td>0</td>\n",
              "      <td>0</td>\n",
              "      <td>0</td>\n",
              "      <td>0</td>\n",
              "      <td>0</td>\n",
              "      <td>0</td>\n",
              "      <td>0</td>\n",
              "      <td>0</td>\n",
              "      <td>0</td>\n",
              "      <td>0</td>\n",
              "      <td>0</td>\n",
              "      <td>1</td>\n",
              "      <td>0</td>\n",
              "      <td>0</td>\n",
              "      <td>0</td>\n",
              "      <td>0</td>\n",
              "      <td>1</td>\n",
              "      <td>0</td>\n",
              "      <td>0</td>\n",
              "      <td>0</td>\n",
              "      <td>0</td>\n",
              "      <td>1</td>\n",
              "      <td>0</td>\n",
              "    </tr>\n",
              "    <tr>\n",
              "      <th>99</th>\n",
              "      <td>1.0</td>\n",
              "      <td>3.8</td>\n",
              "      <td>0</td>\n",
              "      <td>0</td>\n",
              "      <td>0</td>\n",
              "      <td>0</td>\n",
              "      <td>7</td>\n",
              "      <td>0</td>\n",
              "      <td>0</td>\n",
              "      <td>0</td>\n",
              "      <td>0</td>\n",
              "      <td>6032</td>\n",
              "      <td>0</td>\n",
              "      <td>0</td>\n",
              "      <td>0</td>\n",
              "      <td>0</td>\n",
              "      <td>1</td>\n",
              "      <td>0</td>\n",
              "      <td>0</td>\n",
              "      <td>0</td>\n",
              "      <td>0</td>\n",
              "      <td>0</td>\n",
              "      <td>1</td>\n",
              "      <td>0</td>\n",
              "      <td>0</td>\n",
              "      <td>0</td>\n",
              "      <td>0</td>\n",
              "      <td>0</td>\n",
              "      <td>0</td>\n",
              "      <td>0</td>\n",
              "      <td>0</td>\n",
              "      <td>0</td>\n",
              "      <td>1</td>\n",
              "      <td>0</td>\n",
              "      <td>0</td>\n",
              "      <td>0</td>\n",
              "      <td>0</td>\n",
              "      <td>0</td>\n",
              "      <td>0</td>\n",
              "      <td>0</td>\n",
              "      <td>...</td>\n",
              "      <td>0</td>\n",
              "      <td>0</td>\n",
              "      <td>0</td>\n",
              "      <td>0</td>\n",
              "      <td>0</td>\n",
              "      <td>0</td>\n",
              "      <td>0</td>\n",
              "      <td>0</td>\n",
              "      <td>0</td>\n",
              "      <td>0</td>\n",
              "      <td>0</td>\n",
              "      <td>0</td>\n",
              "      <td>0</td>\n",
              "      <td>0</td>\n",
              "      <td>0</td>\n",
              "      <td>0</td>\n",
              "      <td>0</td>\n",
              "      <td>0</td>\n",
              "      <td>0</td>\n",
              "      <td>0</td>\n",
              "      <td>0</td>\n",
              "      <td>0</td>\n",
              "      <td>0</td>\n",
              "      <td>1</td>\n",
              "      <td>0</td>\n",
              "      <td>0</td>\n",
              "      <td>0</td>\n",
              "      <td>0</td>\n",
              "      <td>0</td>\n",
              "      <td>0</td>\n",
              "      <td>0</td>\n",
              "      <td>0</td>\n",
              "      <td>0</td>\n",
              "      <td>0</td>\n",
              "      <td>1</td>\n",
              "      <td>0</td>\n",
              "      <td>0</td>\n",
              "      <td>0</td>\n",
              "      <td>0</td>\n",
              "      <td>1</td>\n",
              "    </tr>\n",
              "  </tbody>\n",
              "</table>\n",
              "<p>100 rows × 114 columns</p>\n",
              "</div>"
            ],
            "text/plain": [
              "    const  Rating  Competitors  ...  job_simp_na  seniority_na  seniority_senior\n",
              "0     1.0     4.2            0  ...            0             1                 0\n",
              "1     1.0     2.9            3  ...            0             1                 0\n",
              "2     1.0     3.4            0  ...            0             1                 0\n",
              "3     1.0     3.1            3  ...            0             0                 1\n",
              "4     1.0     3.6            0  ...            0             1                 0\n",
              "..    ...     ...          ...  ...          ...           ...               ...\n",
              "95    1.0     3.7            0  ...            0             1                 0\n",
              "96    1.0     4.8            3  ...            0             0                 1\n",
              "97    1.0     4.4            3  ...            0             0                 1\n",
              "98    1.0     3.7            2  ...            0             1                 0\n",
              "99    1.0     3.8            0  ...            0             0                 1\n",
              "\n",
              "[100 rows x 114 columns]"
            ]
          },
          "metadata": {
            "tags": []
          },
          "execution_count": 38
        }
      ]
    },
    {
      "cell_type": "code",
      "metadata": {
        "id": "719qnaigUedN",
        "colab_type": "code",
        "colab": {
          "base_uri": "https://localhost:8080/",
          "height": 34
        },
        "outputId": "bb53dc61-3f15-4119-c539-495e07fc76ce"
      },
      "source": [
        "np.mean(cross_val_score(lm, X_train,y_train,scoring = 'neg_mean_absolute_error',cv =3))"
      ],
      "execution_count": null,
      "outputs": [
        {
          "output_type": "execute_result",
          "data": {
            "text/plain": [
              "-42.722433695773105"
            ]
          },
          "metadata": {
            "tags": []
          },
          "execution_count": 40
        }
      ]
    },
    {
      "cell_type": "code",
      "metadata": {
        "id": "5dHu4ruNV3n6",
        "colab_type": "code",
        "colab": {}
      },
      "source": [
        "# Multi linear reg to get good values from sparse data is difficult\n",
        "# Use normalization. Using lasso. Increase alpha smoothens data\n"
      ],
      "execution_count": null,
      "outputs": []
    },
    {
      "cell_type": "code",
      "metadata": {
        "id": "3SzURPa6WFAS",
        "colab_type": "code",
        "colab": {}
      },
      "source": [
        "from sklearn.linear_model import Lasso\n",
        "lm_l = Lasso()"
      ],
      "execution_count": null,
      "outputs": []
    },
    {
      "cell_type": "code",
      "metadata": {
        "id": "HRdWlwpRWPph",
        "colab_type": "code",
        "colab": {
          "base_uri": "https://localhost:8080/",
          "height": 34
        },
        "outputId": "3051d30d-809d-470f-bfef-cdb7cbb1e90c"
      },
      "source": [
        "np.mean(cross_val_score(lm_l, X_train,y_train,scoring = 'neg_mean_absolute_error',cv =3))"
      ],
      "execution_count": null,
      "outputs": [
        {
          "output_type": "execute_result",
          "data": {
            "text/plain": [
              "-22.171040014525175"
            ]
          },
          "metadata": {
            "tags": []
          },
          "execution_count": 46
        }
      ]
    },
    {
      "cell_type": "code",
      "metadata": {
        "id": "KkpXWi6uWuuP",
        "colab_type": "code",
        "colab": {}
      },
      "source": [
        "alpha = []\n",
        "error = []"
      ],
      "execution_count": null,
      "outputs": []
    },
    {
      "cell_type": "code",
      "metadata": {
        "id": "_cQnair8XZp9",
        "colab_type": "code",
        "colab": {
          "base_uri": "https://localhost:8080/",
          "height": 558
        },
        "outputId": "e2e3bb0b-01cf-48fe-b657-0bb46d952510"
      },
      "source": [
        "for i in range(1,100):\n",
        "  alpha.append(i/100)\n",
        "  lml = Lasso(alpha=(i/100))\n",
        "  error.append(np.mean(cross_val_score(lml,X_train,y_train,scoring = 'neg_mean_absolute_error',cv =3)))"
      ],
      "execution_count": null,
      "outputs": [
        {
          "output_type": "stream",
          "text": [
            "/usr/local/lib/python3.6/dist-packages/sklearn/linear_model/_coordinate_descent.py:476: ConvergenceWarning: Objective did not converge. You might want to increase the number of iterations. Duality gap: 392.2999839072625, tolerance: 3.1099188679245287\n",
            "  positive)\n",
            "/usr/local/lib/python3.6/dist-packages/sklearn/linear_model/_coordinate_descent.py:476: ConvergenceWarning: Objective did not converge. You might want to increase the number of iterations. Duality gap: 750.6108361492783, tolerance: 2.8532301886792455\n",
            "  positive)\n",
            "/usr/local/lib/python3.6/dist-packages/sklearn/linear_model/_coordinate_descent.py:476: ConvergenceWarning: Objective did not converge. You might want to increase the number of iterations. Duality gap: 623.9032428565464, tolerance: 2.9638375000000003\n",
            "  positive)\n",
            "/usr/local/lib/python3.6/dist-packages/sklearn/linear_model/_coordinate_descent.py:476: ConvergenceWarning: Objective did not converge. You might want to increase the number of iterations. Duality gap: 762.8853034547724, tolerance: 3.1099188679245287\n",
            "  positive)\n",
            "/usr/local/lib/python3.6/dist-packages/sklearn/linear_model/_coordinate_descent.py:476: ConvergenceWarning: Objective did not converge. You might want to increase the number of iterations. Duality gap: 1282.5967315962575, tolerance: 2.8532301886792455\n",
            "  positive)\n",
            "/usr/local/lib/python3.6/dist-packages/sklearn/linear_model/_coordinate_descent.py:476: ConvergenceWarning: Objective did not converge. You might want to increase the number of iterations. Duality gap: 1051.3517181178127, tolerance: 2.9638375000000003\n",
            "  positive)\n",
            "/usr/local/lib/python3.6/dist-packages/sklearn/linear_model/_coordinate_descent.py:476: ConvergenceWarning: Objective did not converge. You might want to increase the number of iterations. Duality gap: 74.7205373790884, tolerance: 3.1099188679245287\n",
            "  positive)\n",
            "/usr/local/lib/python3.6/dist-packages/sklearn/linear_model/_coordinate_descent.py:476: ConvergenceWarning: Objective did not converge. You might want to increase the number of iterations. Duality gap: 1553.111847837362, tolerance: 2.8532301886792455\n",
            "  positive)\n",
            "/usr/local/lib/python3.6/dist-packages/sklearn/linear_model/_coordinate_descent.py:476: ConvergenceWarning: Objective did not converge. You might want to increase the number of iterations. Duality gap: 1345.754641113635, tolerance: 2.9638375000000003\n",
            "  positive)\n",
            "/usr/local/lib/python3.6/dist-packages/sklearn/linear_model/_coordinate_descent.py:476: ConvergenceWarning: Objective did not converge. You might want to increase the number of iterations. Duality gap: 632.6972818003733, tolerance: 2.8532301886792455\n",
            "  positive)\n",
            "/usr/local/lib/python3.6/dist-packages/sklearn/linear_model/_coordinate_descent.py:476: ConvergenceWarning: Objective did not converge. You might want to increase the number of iterations. Duality gap: 167.9621270655431, tolerance: 2.9638375000000003\n",
            "  positive)\n",
            "/usr/local/lib/python3.6/dist-packages/sklearn/linear_model/_coordinate_descent.py:476: ConvergenceWarning: Objective did not converge. You might want to increase the number of iterations. Duality gap: 637.1610172278956, tolerance: 2.8532301886792455\n",
            "  positive)\n",
            "/usr/local/lib/python3.6/dist-packages/sklearn/linear_model/_coordinate_descent.py:476: ConvergenceWarning: Objective did not converge. You might want to increase the number of iterations. Duality gap: 3.6125805601614047, tolerance: 2.9638375000000003\n",
            "  positive)\n",
            "/usr/local/lib/python3.6/dist-packages/sklearn/linear_model/_coordinate_descent.py:476: ConvergenceWarning: Objective did not converge. You might want to increase the number of iterations. Duality gap: 1485.564595670879, tolerance: 2.8532301886792455\n",
            "  positive)\n",
            "/usr/local/lib/python3.6/dist-packages/sklearn/linear_model/_coordinate_descent.py:476: ConvergenceWarning: Objective did not converge. You might want to increase the number of iterations. Duality gap: 35.009586353507075, tolerance: 2.9638375000000003\n",
            "  positive)\n"
          ],
          "name": "stderr"
        }
      ]
    },
    {
      "cell_type": "code",
      "metadata": {
        "id": "ueM-CyC-YMKA",
        "colab_type": "code",
        "colab": {
          "base_uri": "https://localhost:8080/",
          "height": 282
        },
        "outputId": "2f5d5fa0-6148-4af5-d71b-e53e1af26f7f"
      },
      "source": [
        "plt.plot(alpha,error)"
      ],
      "execution_count": null,
      "outputs": [
        {
          "output_type": "execute_result",
          "data": {
            "text/plain": [
              "[<matplotlib.lines.Line2D at 0x7f73afd33240>]"
            ]
          },
          "metadata": {
            "tags": []
          },
          "execution_count": 53
        },
        {
          "output_type": "display_data",
          "data": {
            "image/png": "[encoded data removed]",
            "text/plain": [
              "<Figure size 432x288 with 1 Axes>"
            ]
          },
          "metadata": {
            "tags": [],
            "needs_background": "light"
          }
        }
      ]
    },
    {
      "cell_type": "code",
      "metadata": {
        "id": "A0PuoeAHYVWl",
        "colab_type": "code",
        "colab": {}
      },
      "source": [
        "err = tuple(zip(alpha,error))\n",
        "df_err = pd.DataFrame(err,columns=['alpha','error'])"
      ],
      "execution_count": null,
      "outputs": []
    },
    {
      "cell_type": "code",
      "metadata": {
        "id": "bJC3ds2OZOpa",
        "colab_type": "code",
        "colab": {
          "base_uri": "https://localhost:8080/",
          "height": 81
        },
        "outputId": "d86664de-5d26-44fe-9c54-fb2c93733696"
      },
      "source": [
        "df_err[df_err.error == max(df_err.error)]"
      ],
      "execution_count": null,
      "outputs": [
        {
          "output_type": "execute_result",
          "data": {
            "text/html": [
              "<div>\n",
              "<style scoped>\n",
              "    .dataframe tbody tr th:only-of-type {\n",
              "        vertical-align: middle;\n",
              "    }\n",
              "\n",
              "    .dataframe tbody tr th {\n",
              "        vertical-align: top;\n",
              "    }\n",
              "\n",
              "    .dataframe thead th {\n",
              "        text-align: right;\n",
              "    }\n",
              "</style>\n",
              "<table border=\"1\" class=\"dataframe\">\n",
              "  <thead>\n",
              "    <tr style=\"text-align: right;\">\n",
              "      <th></th>\n",
              "      <th>alpha</th>\n",
              "      <th>error</th>\n",
              "    </tr>\n",
              "  </thead>\n",
              "  <tbody>\n",
              "    <tr>\n",
              "      <th>32</th>\n",
              "      <td>3.3</td>\n",
              "      <td>-21.15489</td>\n",
              "    </tr>\n",
              "  </tbody>\n",
              "</table>\n",
              "</div>"
            ],
            "text/plain": [
              "    alpha     error\n",
              "32    3.3 -21.15489"
            ]
          },
          "metadata": {
            "tags": []
          },
          "execution_count": 56
        }
      ]
    },
    {
      "cell_type": "code",
      "metadata": {
        "id": "1M22AVCEZcgA",
        "colab_type": "code",
        "colab": {}
      },
      "source": [
        "from sklearn.ensemble import RandomForestRegressor"
      ],
      "execution_count": null,
      "outputs": []
    },
    {
      "cell_type": "code",
      "metadata": {
        "id": "OkADyf0ka3RD",
        "colab_type": "code",
        "colab": {}
      },
      "source": [
        "rf = RandomForestRegressor()"
      ],
      "execution_count": null,
      "outputs": []
    },
    {
      "cell_type": "code",
      "metadata": {
        "id": "mdWj47B-a5vW",
        "colab_type": "code",
        "colab": {
          "base_uri": "https://localhost:8080/",
          "height": 34
        },
        "outputId": "60065c50-022f-46f9-c27a-a5b994cdc849"
      },
      "source": [
        "cross_val_score(rf,X_train,y_train,scoring = 'neg_mean_absolute_error',cv=3)"
      ],
      "execution_count": null,
      "outputs": [
        {
          "output_type": "execute_result",
          "data": {
            "text/plain": [
              "array([-21.03833333, -21.25981481, -20.5275    ])"
            ]
          },
          "metadata": {
            "tags": []
          },
          "execution_count": 59
        }
      ]
    },
    {
      "cell_type": "code",
      "metadata": {
        "id": "3PxgmGJabCBZ",
        "colab_type": "code",
        "colab": {}
      },
      "source": [
        "# provide parameters and runs models to give the best result\n",
        "from sklearn.model_selection import GridSearchCV\n",
        "parameters =  {'n_estimators': range(10,300,10), 'criterion': ('mse','mae'), 'max_features':('auto','sqrt','log2')}"
      ],
      "execution_count": null,
      "outputs": []
    },
    {
      "cell_type": "code",
      "metadata": {
        "id": "2VDl98cEb4Gk",
        "colab_type": "code",
        "colab": {}
      },
      "source": [
        "gs = GridSearchCV(rf,parameters,scoring='neg_mean_absolute_error',cv = 3)"
      ],
      "execution_count": null,
      "outputs": []
    },
    {
      "cell_type": "code",
      "metadata": {
        "id": "-rcvxwruc_pe",
        "colab_type": "code",
        "colab": {
          "base_uri": "https://localhost:8080/",
          "height": 364
        },
        "outputId": "8ed51e6a-21b7-44b3-a799-c4cc37710ece"
      },
      "source": [
        "gs.fit(X_train,y_train)"
      ],
      "execution_count": null,
      "outputs": [
        {
          "output_type": "execute_result",
          "data": {
            "text/plain": [
              "GridSearchCV(cv=3, error_score=nan,\n",
              "             estimator=RandomForestRegressor(bootstrap=True, ccp_alpha=0.0,\n",
              "                                             criterion='mse', max_depth=None,\n",
              "                                             max_features='auto',\n",
              "                                             max_leaf_nodes=None,\n",
              "                                             max_samples=None,\n",
              "                                             min_impurity_decrease=0.0,\n",
              "                                             min_impurity_split=None,\n",
              "                                             min_samples_leaf=1,\n",
              "                                             min_samples_split=2,\n",
              "                                             min_weight_fraction_leaf=0.0,\n",
              "                                             n_estimators=100, n_jobs=None,\n",
              "                                             oob_score=False, random_state=None,\n",
              "                                             verbose=0, warm_start=False),\n",
              "             iid='deprecated', n_jobs=None,\n",
              "             param_grid={'criterion': ('mse', 'mae'),\n",
              "                         'max_features': ('auto', 'sqrt', 'log2'),\n",
              "                         'n_estimators': range(10, 300, 10)},\n",
              "             pre_dispatch='2*n_jobs', refit=True, return_train_score=False,\n",
              "             scoring='neg_mean_absolute_error', verbose=0)"
            ]
          },
          "metadata": {
            "tags": []
          },
          "execution_count": 63
        }
      ]
    },
    {
      "cell_type": "code",
      "metadata": {
        "id": "OdACwXWZdINn",
        "colab_type": "code",
        "colab": {
          "base_uri": "https://localhost:8080/",
          "height": 34
        },
        "outputId": "e99d5f1c-fcc9-4e09-caea-66f81018a65c"
      },
      "source": [
        "gs.best_score_"
      ],
      "execution_count": null,
      "outputs": [
        {
          "output_type": "execute_result",
          "data": {
            "text/plain": [
              "-19.89207818930041"
            ]
          },
          "metadata": {
            "tags": []
          },
          "execution_count": 64
        }
      ]
    },
    {
      "cell_type": "code",
      "metadata": {
        "id": "IJEPL4I_iPED",
        "colab_type": "code",
        "colab": {
          "base_uri": "https://localhost:8080/",
          "height": 139
        },
        "outputId": "232742ef-08a9-4192-a8c4-b7581ac0639f"
      },
      "source": [
        "gs.best_estimator_"
      ],
      "execution_count": null,
      "outputs": [
        {
          "output_type": "execute_result",
          "data": {
            "text/plain": [
              "RandomForestRegressor(bootstrap=True, ccp_alpha=0.0, criterion='mae',\n",
              "                      max_depth=None, max_features='log2', max_leaf_nodes=None,\n",
              "                      max_samples=None, min_impurity_decrease=0.0,\n",
              "                      min_impurity_split=None, min_samples_leaf=1,\n",
              "                      min_samples_split=2, min_weight_fraction_leaf=0.0,\n",
              "                      n_estimators=30, n_jobs=None, oob_score=False,\n",
              "                      random_state=None, verbose=0, warm_start=False)"
            ]
          },
          "metadata": {
            "tags": []
          },
          "execution_count": 66
        }
      ]
    },
    {
      "cell_type": "code",
      "metadata": {
        "id": "g8MQnioXiYgB",
        "colab_type": "code",
        "colab": {}
      },
      "source": [
        "tpred_lm = lm.predict(X_test)\n",
        "tpred_lml = lm_l.predict(X_test)"
      ],
      "execution_count": null,
      "outputs": []
    },
    {
      "cell_type": "code",
      "metadata": {
        "id": "x_nqNsa_jYwq",
        "colab_type": "code",
        "colab": {}
      },
      "source": [
        "lm_l= Lasso(alpha=3.3)"
      ],
      "execution_count": null,
      "outputs": []
    },
    {
      "cell_type": "code",
      "metadata": {
        "id": "x6j-YqGHkDcy",
        "colab_type": "code",
        "colab": {
          "base_uri": "https://localhost:8080/",
          "height": 69
        },
        "outputId": "cd527ba8-9f06-4e2a-f416-6c640cc89c32"
      },
      "source": [
        "lm_l.fit(X_train,y_train)"
      ],
      "execution_count": null,
      "outputs": [
        {
          "output_type": "execute_result",
          "data": {
            "text/plain": [
              "Lasso(alpha=3.3, copy_X=True, fit_intercept=True, max_iter=1000,\n",
              "      normalize=False, positive=False, precompute=False, random_state=None,\n",
              "      selection='cyclic', tol=0.0001, warm_start=False)"
            ]
          },
          "metadata": {
            "tags": []
          },
          "execution_count": 70
        }
      ]
    },
    {
      "cell_type": "code",
      "metadata": {
        "id": "34OaB6XRkH3t",
        "colab_type": "code",
        "colab": {}
      },
      "source": [
        "lm = LinearRegression()"
      ],
      "execution_count": null,
      "outputs": []
    },
    {
      "cell_type": "code",
      "metadata": {
        "id": "WdNRpPdzkOto",
        "colab_type": "code",
        "colab": {
          "base_uri": "https://localhost:8080/",
          "height": 34
        },
        "outputId": "151e2e36-8ed1-4e1c-e199-3d68e8a9c92d"
      },
      "source": [
        "lm.fit(X_train,y_train)"
      ],
      "execution_count": null,
      "outputs": [
        {
          "output_type": "execute_result",
          "data": {
            "text/plain": [
              "LinearRegression(copy_X=True, fit_intercept=True, n_jobs=None, normalize=False)"
            ]
          },
          "metadata": {
            "tags": []
          },
          "execution_count": 72
        }
      ]
    },
    {
      "cell_type": "code",
      "metadata": {
        "id": "7z155TQikRl-",
        "colab_type": "code",
        "colab": {}
      },
      "source": [
        "tpred_rf = gs.best_estimator_.predict(X_test)"
      ],
      "execution_count": null,
      "outputs": []
    },
    {
      "cell_type": "code",
      "metadata": {
        "id": "w8rVigmVlIly",
        "colab_type": "code",
        "colab": {}
      },
      "source": [
        "from sklearn.metrics import mean_absolute_error"
      ],
      "execution_count": null,
      "outputs": []
    },
    {
      "cell_type": "code",
      "metadata": {
        "id": "LHfy1gCQlMLs",
        "colab_type": "code",
        "colab": {
          "base_uri": "https://localhost:8080/",
          "height": 34
        },
        "outputId": "2ec79de6-638a-496c-9960-3bffe2eca362"
      },
      "source": [
        "mean_absolute_error(y_test,tpred_lml)"
      ],
      "execution_count": null,
      "outputs": [
        {
          "output_type": "execute_result",
          "data": {
            "text/plain": [
              "21.616921468227826"
            ]
          },
          "metadata": {
            "tags": []
          },
          "execution_count": 83
        }
      ]
    },
    {
      "cell_type": "code",
      "metadata": {
        "id": "cGslxedOleQe",
        "colab_type": "code",
        "colab": {
          "base_uri": "https://localhost:8080/",
          "height": 34
        },
        "outputId": "36bea2c4-ce4d-47ac-f596-5f0cf8039767"
      },
      "source": [
        "mean_absolute_error(y_test,tpred_rf)\n"
      ],
      "execution_count": null,
      "outputs": [
        {
          "output_type": "execute_result",
          "data": {
            "text/plain": [
              "20.485833333333332"
            ]
          },
          "metadata": {
            "tags": []
          },
          "execution_count": 84
        }
      ]
    },
    {
      "cell_type": "code",
      "metadata": {
        "id": "D1gBMhi1lrI9",
        "colab_type": "code",
        "colab": {
          "base_uri": "https://localhost:8080/",
          "height": 34
        },
        "outputId": "4b9284d3-cff4-4929-a80b-ef6c0549a590"
      },
      "source": [
        "mean_absolute_error(y_test,tpred_lm)\n"
      ],
      "execution_count": null,
      "outputs": [
        {
          "output_type": "execute_result",
          "data": {
            "text/plain": [
              "120.91265591330247"
            ]
          },
          "metadata": {
            "tags": []
          },
          "execution_count": 85
        }
      ]
    },
    {
      "cell_type": "code",
      "metadata": {
        "id": "4gXXdBp_lwcH",
        "colab_type": "code",
        "colab": {
          "base_uri": "https://localhost:8080/",
          "height": 34
        },
        "outputId": "619fb4da-27a1-4ef6-d310-66e61a9b8dd2"
      },
      "source": [
        "mean_absolute_error(y_test,(tpred_lml+tpred_rf)/2)"
      ],
      "execution_count": null,
      "outputs": [
        {
          "output_type": "execute_result",
          "data": {
            "text/plain": [
              "21.051377400780584"
            ]
          },
          "metadata": {
            "tags": []
          },
          "execution_count": 87
        }
      ]
    },
    {
      "cell_type": "code",
      "metadata": {
        "id": "jeHLXs9bl34J",
        "colab_type": "code",
        "colab": {}
      },
      "source": [
        ""
      ],
      "execution_count": null,
      "outputs": []
    }
  ]
}